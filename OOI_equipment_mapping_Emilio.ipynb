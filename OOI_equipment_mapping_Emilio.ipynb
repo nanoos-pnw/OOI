{
 "cells": [
  {
   "cell_type": "markdown",
   "metadata": {},
   "source": [
    "# OOI Equipment mapping\n",
    "- 6/22: tweaked and tested by Emilio\n",
    "- by Landung Setiawan\n",
    "- 6/14/2016\n",
    "- This notebook is for retrieving information from google sheets and then mapping to a JSON file, each instrument has its own JSON file configuration\n",
    "- The required libraries for this manipulation is *gspread*, *oauth2client*, and *pycrypto*"
   ]
  },
  {
   "cell_type": "markdown",
   "metadata": {},
   "source": [
    "### TO-DO:\n",
    "- 6/22: CHANGE depth_m TO BE A STRING? eg, '-1m'\n",
    "- Handle \"measurements\" sheet, too"
   ]
  },
  {
   "cell_type": "code",
   "execution_count": 1,
   "metadata": {
    "collapsed": false
   },
   "outputs": [],
   "source": [
    "import os\n",
    "import json\n",
    "import numpy as np\n",
    "import pandas as pd"
   ]
  },
  {
   "cell_type": "code",
   "execution_count": 2,
   "metadata": {
    "collapsed": true
   },
   "outputs": [],
   "source": [
    "def get_googlesheet_doc(gdocjson_pth, doc_name):\n",
    "    import oauth2client\n",
    "    import gspread\n",
    "    \n",
    "    # Get Google docs json token and scope for google sheets\n",
    "    gdocstoken_json = os.path.join(gdocjson_pth, '.gdocs_Nanoos-fcdeeb760f83.json')\n",
    "    scope = ['https://spreadsheets.google.com/feeds']\n",
    "\n",
    "    # Retrieve credentials from JSON key of service account\n",
    "    # oauth_ver = oauth2client.__version__\n",
    "    try:\n",
    "        from oauth2client.service_account import ServiceAccountCredentials\n",
    "        credentials = ServiceAccountCredentials.from_json_keyfile_name(gdocstoken_json, scope)\n",
    "    except:\n",
    "        from oauth2client.client import SignedJwtAssertionCredentials\n",
    "        with open(gdocstoken_json) as f:\n",
    "            json_key = json.load(f)\n",
    "        credentials = SignedJwtAssertionCredentials(json_key['client_email'],\n",
    "                                                    json_key['private_key'], scope)\n",
    "    gc = gspread.authorize(credentials)\n",
    "    sheetgdoc = gc.open(doc_name)\n",
    "    \n",
    "    return sheetgdoc"
   ]
  },
  {
   "cell_type": "markdown",
   "metadata": {},
   "source": [
    "## Testing with vizer google credentials"
   ]
  },
  {
   "cell_type": "code",
   "execution_count": 3,
   "metadata": {
    "collapsed": true
   },
   "outputs": [],
   "source": [
    "import vizer.tsharvest.util as vhutil\n",
    "\n",
    "vizer = vhutil.Vizer('nvs', False)"
   ]
  },
  {
   "cell_type": "code",
   "execution_count": 4,
   "metadata": {
    "collapsed": false
   },
   "outputs": [],
   "source": [
    "gdoc = get_googlesheet_doc(vizer.vizerspath, \"sensor_configurations_mappings\")"
   ]
  },
  {
   "cell_type": "code",
   "execution_count": 5,
   "metadata": {
    "collapsed": false
   },
   "outputs": [],
   "source": [
    "sheet = gdoc.worksheet('instruments')"
   ]
  },
  {
   "cell_type": "markdown",
   "metadata": {},
   "source": [
    "## Parsing data to a pandas dataframe\n",
    "Now that connection has been established, data is parsed to be viewed"
   ]
  },
  {
   "cell_type": "code",
   "execution_count": 6,
   "metadata": {
    "collapsed": false
   },
   "outputs": [],
   "source": [
    "sheetvalues = sheet.get_all_values()"
   ]
  },
  {
   "cell_type": "code",
   "execution_count": 7,
   "metadata": {
    "collapsed": false
   },
   "outputs": [
    {
     "name": "stderr",
     "output_type": "stream",
     "text": [
      "/home/mayorga/miniconda/envs/uwapl_em_mc_1aui/lib/python2.7/site-packages/ipykernel/__main__.py:3: FutureWarning: convert_objects is deprecated.  Use the data-type specific converters pd.to_datetime, pd.to_timedelta and pd.to_numeric.\n",
      "  app.launch_new_instance()\n"
     ]
    },
    {
     "data": {
      "text/html": [
       "<div>\n",
       "<table border=\"1\" class=\"dataframe\">\n",
       "  <thead>\n",
       "    <tr style=\"text-align: right;\">\n",
       "      <th></th>\n",
       "      <th>platform</th>\n",
       "      <th>depth_m</th>\n",
       "      <th>mfn</th>\n",
       "      <th>deployment</th>\n",
       "      <th>data_logger</th>\n",
       "      <th>instrument</th>\n",
       "      <th>subtype</th>\n",
       "      <th>magnetic_declin_correction</th>\n",
       "      <th>raw_url</th>\n",
       "    </tr>\n",
       "  </thead>\n",
       "  <tbody>\n",
       "    <tr>\n",
       "      <th>0</th>\n",
       "      <td>CE01ISSM</td>\n",
       "      <td>-7</td>\n",
       "      <td></td>\n",
       "      <td>D00005</td>\n",
       "      <td>dcl16</td>\n",
       "      <td>ctdbp1</td>\n",
       "      <td>ctd_type::2</td>\n",
       "      <td>NaN</td>\n",
       "      <td>https://rawdata.oceanobservatories.org/files/C...</td>\n",
       "    </tr>\n",
       "    <tr>\n",
       "      <th>1</th>\n",
       "      <td>CE01ISSM</td>\n",
       "      <td>-25</td>\n",
       "      <td>x</td>\n",
       "      <td>D00001</td>\n",
       "      <td>dcl37</td>\n",
       "      <td>ctdbp2</td>\n",
       "      <td>ctd_type::2</td>\n",
       "      <td>NaN</td>\n",
       "      <td>https://rawdata.oceanobservatories.org/files/C...</td>\n",
       "    </tr>\n",
       "    <tr>\n",
       "      <th>2</th>\n",
       "      <td>CE02SHBP</td>\n",
       "      <td>-80</td>\n",
       "      <td></td>\n",
       "      <td></td>\n",
       "      <td>LJ01D</td>\n",
       "      <td></td>\n",
       "      <td></td>\n",
       "      <td>NaN</td>\n",
       "      <td>https://rawdata.oceanobservatories.org/files/C...</td>\n",
       "    </tr>\n",
       "    <tr>\n",
       "      <th>3</th>\n",
       "      <td>CE02SHSM</td>\n",
       "      <td>-7</td>\n",
       "      <td></td>\n",
       "      <td>D00003</td>\n",
       "      <td>cg_data/dcl27</td>\n",
       "      <td>ctdbp</td>\n",
       "      <td>ctd_type::1</td>\n",
       "      <td>NaN</td>\n",
       "      <td>https://rawdata.oceanobservatories.org/files/C...</td>\n",
       "    </tr>\n",
       "    <tr>\n",
       "      <th>4</th>\n",
       "      <td>CE02SHSM</td>\n",
       "      <td>0</td>\n",
       "      <td></td>\n",
       "      <td>D00003</td>\n",
       "      <td>cg_data/dcl11</td>\n",
       "      <td>metbk</td>\n",
       "      <td></td>\n",
       "      <td>15.58</td>\n",
       "      <td>https://rawdata.oceanobservatories.org/files/C...</td>\n",
       "    </tr>\n",
       "  </tbody>\n",
       "</table>\n",
       "</div>"
      ],
      "text/plain": [
       "   platform  depth_m mfn deployment    data_logger instrument      subtype  \\\n",
       "0  CE01ISSM       -7         D00005          dcl16     ctdbp1  ctd_type::2   \n",
       "1  CE01ISSM      -25   x     D00001          dcl37     ctdbp2  ctd_type::2   \n",
       "2  CE02SHBP      -80                         LJ01D                           \n",
       "3  CE02SHSM       -7         D00003  cg_data/dcl27      ctdbp  ctd_type::1   \n",
       "4  CE02SHSM        0         D00003  cg_data/dcl11      metbk                \n",
       "\n",
       "   magnetic_declin_correction  \\\n",
       "0                         NaN   \n",
       "1                         NaN   \n",
       "2                         NaN   \n",
       "3                         NaN   \n",
       "4                       15.58   \n",
       "\n",
       "                                             raw_url  \n",
       "0  https://rawdata.oceanobservatories.org/files/C...  \n",
       "1  https://rawdata.oceanobservatories.org/files/C...  \n",
       "2  https://rawdata.oceanobservatories.org/files/C...  \n",
       "3  https://rawdata.oceanobservatories.org/files/C...  \n",
       "4  https://rawdata.oceanobservatories.org/files/C...  "
      ]
     },
     "execution_count": 7,
     "metadata": {},
     "output_type": "execute_result"
    }
   ],
   "source": [
    "# Convert data into pandas dataframe\n",
    "df = pd.DataFrame(sheetvalues[1:], columns=sheetvalues[0])\n",
    "df = df.convert_objects(convert_numeric=True)\n",
    "df.head()"
   ]
  },
  {
   "cell_type": "code",
   "execution_count": 8,
   "metadata": {
    "collapsed": false
   },
   "outputs": [],
   "source": [
    "# Get Platforms\n",
    "json_data = df[['platform', 'instrument', 'depth_m', 'mfn',\n",
    "                'deployment', 'data_logger', 'subtype',\n",
    "                'magnetic_declin_correction']].reset_index(drop=True)\n",
    "platforms = json_data['platform'].unique()"
   ]
  },
  {
   "cell_type": "code",
   "execution_count": 9,
   "metadata": {
    "collapsed": false
   },
   "outputs": [],
   "source": [
    "# Create platform dictionary. Eliminate instruments with blank instrument strings,\n",
    "# and platforms containing only such instruments.\n",
    "platforms_dct = {}\n",
    "for platform in platforms:\n",
    "    instruments_df = json_data.loc[json_data['platform'] == platform]    \n",
    "    instruments_tmp_dct = {}\n",
    "    for idx, instruments_df_row in instruments_df.iterrows():\n",
    "        row_dct = instruments_df_row.to_dict()\n",
    "        instrument = row_dct['instrument']\n",
    "        \n",
    "        row_dct['mfn'] = True if row_dct['mfn'] == 'x' else False\n",
    "        if row_dct['subtype'] != '':\n",
    "            row_dct['subtype'] = int(row_dct['subtype'].split('::')[1])\n",
    "        else:\n",
    "            row_dct['subtype'] = None\n",
    "        if np.isnan(row_dct['magnetic_declin_correction']):\n",
    "            row_dct['magnetic_declin_correction'] = None\n",
    "        \n",
    "        row_dct.pop('platform', None)\n",
    "        row_dct.pop('instrument', None)\n",
    "        \n",
    "        if len(instrument) > 1:\n",
    "            instruments_tmp_dct[instrument] = row_dct\n",
    "        \n",
    "    if instruments_tmp_dct:\n",
    "        platforms_dct[platform] = instruments_tmp_dct"
   ]
  },
  {
   "cell_type": "code",
   "execution_count": 10,
   "metadata": {
    "collapsed": false
   },
   "outputs": [
    {
     "data": {
      "text/plain": [
       "['CE04OSSM', 'CE02SHSM', 'CE01ISSM', 'CE06ISSM', 'CE09OSSM', 'CE07SHSM']"
      ]
     },
     "execution_count": 10,
     "metadata": {},
     "output_type": "execute_result"
    }
   ],
   "source": [
    "platforms_dct.keys()"
   ]
  },
  {
   "cell_type": "code",
   "execution_count": 11,
   "metadata": {
    "collapsed": false
   },
   "outputs": [
    {
     "data": {
      "text/plain": [
       "['wavss', 'metbk', 'ctdbp1', 'ctdbp2']"
      ]
     },
     "execution_count": 11,
     "metadata": {},
     "output_type": "execute_result"
    }
   ],
   "source": [
    "platforms_dct['CE09OSSM'].keys()"
   ]
  },
  {
   "cell_type": "code",
   "execution_count": 13,
   "metadata": {
    "collapsed": false
   },
   "outputs": [
    {
     "name": "stdout",
     "output_type": "stream",
     "text": [
      "{\n",
      "    \"CE01ISSM\": {\n",
      "        \"ctdbp1\": {\n",
      "            \"data_logger\": \"dcl16\", \n",
      "            \"deployment\": \"D00005\", \n",
      "            \"depth_m\": -7, \n",
      "            \"magnetic_declin_correction\": null, \n",
      "            \"mfn\": false, \n",
      "            \"subtype\": 2\n",
      "        }, \n",
      "        \"ctdbp2\": {\n",
      "            \"data_logger\": \"dcl37\", \n",
      "            \"deployment\": \"D00001\", \n",
      "            \"depth_m\": -25, \n",
      "            \"magnetic_declin_correction\": null, \n",
      "            \"mfn\": true, \n",
      "            \"subtype\": 2\n",
      "        }\n",
      "    }, \n",
      "    \"CE02SHSM\": {\n",
      "        \"ctdbp\": {\n",
      "            \"data_logger\": \"cg_data/dcl27\", \n",
      "            \"deployment\": \"D00003\", \n",
      "            \"depth_m\": -7, \n",
      "            \"magnetic_declin_correction\": null, \n",
      "            \"mfn\": false, \n",
      "            \"subtype\": 1\n",
      "        }, \n",
      "        \"metbk\": {\n",
      "            \"data_logger\": \"cg_data/dcl11\", \n",
      "            \"deployment\": \"D00003\", \n",
      "            \"depth_m\": 0, \n",
      "            \"magnetic_declin_correction\": 15.58, \n",
      "            \"mfn\": false, \n",
      "            \"subtype\": null\n",
      "        }, \n",
      "        \"wavss\": {\n",
      "            \"data_logger\": \"cg_data/dcl12\", \n",
      "            \"deployment\": \"D00003\", \n",
      "            \"depth_m\": 0, \n",
      "            \"magnetic_declin_correction\": null, \n",
      "            \"mfn\": false, \n",
      "            \"subtype\": null\n",
      "        }\n",
      "    }, \n",
      "    \"CE04OSSM\": {\n",
      "        \"ctdbp\": {\n",
      "            \"data_logger\": \"cg_data/dcl27\", \n",
      "            \"deployment\": \"D00002\", \n",
      "            \"depth_m\": -7, \n",
      "            \"magnetic_declin_correction\": null, \n",
      "            \"mfn\": false, \n",
      "            \"subtype\": 1\n",
      "        }, \n",
      "        \"metbk\": {\n",
      "            \"data_logger\": \"cg_data/dcl11\", \n",
      "            \"deployment\": \"D00002\", \n",
      "            \"depth_m\": 0, \n",
      "            \"magnetic_declin_correction\": 15.6, \n",
      "            \"mfn\": false, \n",
      "            \"subtype\": null\n",
      "        }, \n",
      "        \"wavss\": {\n",
      "            \"data_logger\": \"cg_data/dcl12\", \n",
      "            \"deployment\": \"D00002\", \n",
      "            \"depth_m\": 0, \n",
      "            \"magnetic_declin_correction\": null, \n",
      "            \"mfn\": false, \n",
      "            \"subtype\": null\n",
      "        }\n",
      "    }, \n",
      "    \"CE06ISSM\": {\n",
      "        \"ctdbp1\": {\n",
      "            \"data_logger\": \"dcl16\", \n",
      "            \"deployment\": \"D00004\", \n",
      "            \"depth_m\": -7, \n",
      "            \"magnetic_declin_correction\": null, \n",
      "            \"mfn\": false, \n",
      "            \"subtype\": 2\n",
      "        }, \n",
      "        \"ctdbp2\": {\n",
      "            \"data_logger\": \"dcl37\", \n",
      "            \"deployment\": \"D00004\", \n",
      "            \"depth_m\": -29, \n",
      "            \"magnetic_declin_correction\": null, \n",
      "            \"mfn\": true, \n",
      "            \"subtype\": 2\n",
      "        }\n",
      "    }, \n",
      "    \"CE07SHSM\": {\n",
      "        \"ctdbp1\": {\n",
      "            \"data_logger\": \"cg_data/dcl27\", \n",
      "            \"deployment\": \"D00003\", \n",
      "            \"depth_m\": -7, \n",
      "            \"magnetic_declin_correction\": null, \n",
      "            \"mfn\": false, \n",
      "            \"subtype\": 1\n",
      "        }, \n",
      "        \"ctdbp2\": {\n",
      "            \"data_logger\": \"cg_data/dcl37\", \n",
      "            \"deployment\": \"D00003\", \n",
      "            \"depth_m\": -87, \n",
      "            \"magnetic_declin_correction\": null, \n",
      "            \"mfn\": true, \n",
      "            \"subtype\": 2\n",
      "        }, \n",
      "        \"metbk\": {\n",
      "            \"data_logger\": \"cg_data/dcl11\", \n",
      "            \"deployment\": \"D00003\", \n",
      "            \"depth_m\": 0, \n",
      "            \"magnetic_declin_correction\": 16.21, \n",
      "            \"mfn\": false, \n",
      "            \"subtype\": null\n",
      "        }, \n",
      "        \"wavss\": {\n",
      "            \"data_logger\": \"cg_data/dcl12\", \n",
      "            \"deployment\": \"D00003\", \n",
      "            \"depth_m\": 0, \n",
      "            \"magnetic_declin_correction\": null, \n",
      "            \"mfn\": false, \n",
      "            \"subtype\": null\n",
      "        }\n",
      "    }, \n",
      "    \"CE09OSSM\": {\n",
      "        \"ctdbp1\": {\n",
      "            \"data_logger\": \"cg_data/dcl27\", \n",
      "            \"deployment\": \"D00003\", \n",
      "            \"depth_m\": -7, \n",
      "            \"magnetic_declin_correction\": null, \n",
      "            \"mfn\": false, \n",
      "            \"subtype\": 1\n",
      "        }, \n",
      "        \"ctdbp2\": {\n",
      "            \"data_logger\": \"cg_data/dcl37\", \n",
      "            \"deployment\": \"D00001\", \n",
      "            \"depth_m\": -540, \n",
      "            \"magnetic_declin_correction\": null, \n",
      "            \"mfn\": true, \n",
      "            \"subtype\": 2\n",
      "        }, \n",
      "        \"metbk\": {\n",
      "            \"data_logger\": \"cg_data/dcl11\", \n",
      "            \"deployment\": \"D00003\", \n",
      "            \"depth_m\": 0, \n",
      "            \"magnetic_declin_correction\": 16.23, \n",
      "            \"mfn\": false, \n",
      "            \"subtype\": null\n",
      "        }, \n",
      "        \"wavss\": {\n",
      "            \"data_logger\": \"cg_data/dcl12\", \n",
      "            \"deployment\": \"D00003\", \n",
      "            \"depth_m\": 0, \n",
      "            \"magnetic_declin_correction\": null, \n",
      "            \"mfn\": false, \n",
      "            \"subtype\": null\n",
      "        }\n",
      "    }\n",
      "}\n"
     ]
    }
   ],
   "source": [
    "# prints the JSON structured dictionary\n",
    "jsont_str = json.dumps(platforms_dct, sort_keys=True, indent=4)\n",
    "print(jsont_str)"
   ]
  },
  {
   "cell_type": "markdown",
   "metadata": {},
   "source": [
    "## Output to JSON"
   ]
  },
  {
   "cell_type": "code",
   "execution_count": 14,
   "metadata": {
    "collapsed": true
   },
   "outputs": [],
   "source": [
    "fpth = os.path.join(vizer.vizerspath, 'nvs', 'siso_ooi_harvest.json')\n",
    "with open(fpth, 'w') as fojson:\n",
    "    fojson.write(jsont_str)"
   ]
  }
 ],
 "metadata": {
  "kernelspec": {
   "display_name": "Python 2",
   "language": "python",
   "name": "python2"
  },
  "language_info": {
   "codemirror_mode": {
    "name": "ipython",
    "version": 2
   },
   "file_extension": ".py",
   "mimetype": "text/x-python",
   "name": "python",
   "nbconvert_exporter": "python",
   "pygments_lexer": "ipython2",
   "version": "2.7.11"
  }
 },
 "nbformat": 4,
 "nbformat_minor": 0
}
