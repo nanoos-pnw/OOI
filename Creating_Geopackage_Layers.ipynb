{
 "cells": [
  {
   "cell_type": "markdown",
   "metadata": {},
   "source": [
    "# Creating Geopackage Layers\n",
    "- Landung Setiawan 5/27/2016\n",
    "- Updated 6/29/2016\n",
    "- **Note: In order for fiona to be able to read and write geopackage, numpy 1.10.0 and gdal 1.11.0 or greater is required, however, gdal cannot be 2.0.0 or greater!**\n",
    "- Creating the environment\n",
    "```bash\n",
    "conda create -n gpkg -c conda-forge numpy=1.10.0 fiona=1.6.4 gdal=1.11.4 geopandas matplotlib\n",
    "source activate gpkg\n",
    "conda install ipython notebook anaconda-client\n",
    "conda install -c auto gsconfig=0.6.7\n",
    "```"
   ]
  },
  {
   "cell_type": "code",
   "execution_count": 1,
   "metadata": {
    "collapsed": false
   },
   "outputs": [
    {
     "name": "stderr",
     "output_type": "stream",
     "text": [
      "/home/lsetiawan/anaconda2/envs/OOI/lib/python2.7/site-packages/matplotlib/font_manager.py:273: UserWarning: Matplotlib is building the font cache using fc-list. This may take a moment.\n",
      "  warnings.warn('Matplotlib is building the font cache using fc-list. This may take a moment.')\n"
     ]
    }
   ],
   "source": [
    "%matplotlib inline\n",
    "# Import the necessary libraries\n",
    "import csv, os\n",
    "from shapely.geometry import Point, mapping\n",
    "import fiona, shapely\n",
    "from fiona import Collection\n",
    "import numpy as np"
   ]
  },
  {
   "cell_type": "code",
   "execution_count": 2,
   "metadata": {
    "collapsed": false
   },
   "outputs": [
    {
     "name": "stdout",
     "output_type": "stream",
     "text": [
      "fiona version: 1.6.4\n",
      "shapely version: 1.5.15\n",
      "gdal version: 1.11.4\n",
      "numpy version: 1.10.0\n"
     ]
    }
   ],
   "source": [
    "print \"fiona version: {}\".format(fiona.__version__)\n",
    "print \"shapely version: {}\".format(shapely.__version__)\n",
    "print \"gdal version: {}\".format(fiona.__gdal_version__)\n",
    "print \"numpy version: {}\".format(np.__version__)"
   ]
  },
  {
   "cell_type": "code",
   "execution_count": 3,
   "metadata": {
    "collapsed": true
   },
   "outputs": [],
   "source": [
    "# Assign file_path\n",
    "pth = \"/mnt/hgfs/shared_ubuntu/APL/OOI/OOI_ipynb/\"\n",
    "fname = 'Nanoos.gpkg'\n",
    "fcsv = \"OOI_Assets.csv\""
   ]
  },
  {
   "cell_type": "markdown",
   "metadata": {},
   "source": [
    "## Reading csv and printing as dictionary"
   ]
  },
  {
   "cell_type": "code",
   "execution_count": 4,
   "metadata": {
    "collapsed": false
   },
   "outputs": [
    {
     "name": "stdout",
     "output_type": "stream",
     "text": [
      "{'Description': 'OR Inshore Surface Mooring', 'URL': 'http://oceanobservatories.org/site/ce01issm/', 'Provider URL': 'http://oceanobservatories.org', 'Region': 'Newport, OOI Oregon Line', 'Lon': '-124.0957', 'State / Province': 'Oregon', 'Provider': 'OOI', 'Lat': '44.6585', 'Provider Type': 'Academic', 'Type': 'Buoy', 'ID': 'OOI_CE01ISSM', 'Name': 'CE01ISSM'}\n",
      "{'Description': 'OR Shelf Cabled Benthic Experiment Package', 'URL': 'http://oceanobservatories.org/site/ce02shbp/', 'Provider URL': 'http://oceanobservatories.org', 'Region': 'Newport, OOI Oregon Line', 'Lon': '-124.31', 'State / Province': 'Oregon', 'Provider': 'OOI', 'Lat': '44.64', 'Provider Type': 'Academic', 'Type': 'Seabed Cabled Platform', 'ID': 'OOI_CE02SHBP', 'Name': 'CE02SHBP'}\n",
      "{'Description': 'OR Shelf Surface Mooring', 'URL': 'http://oceanobservatories.org/site/ce02shsm/', 'Provider URL': 'http://oceanobservatories.org', 'Region': 'Newport, OOI Oregon Line', 'Lon': '-124.31', 'State / Province': 'Oregon', 'Provider': 'OOI', 'Lat': '44.64', 'Provider Type': 'Academic', 'Type': 'Buoy', 'ID': 'OOI_CE02SHSM', 'Name': 'CE02SHSM'}\n",
      "{'Description': 'OR Offshore Cabled Benthic Experiment Package', 'URL': 'http://oceanobservatories.org/site/ce04osbp/', 'Provider URL': 'http://oceanobservatories.org', 'Region': 'Newport, OOI Oregon Line', 'Lon': '-124.95', 'State / Province': 'Oregon', 'Provider': 'OOI', 'Lat': '44.37', 'Provider Type': 'Academic', 'Type': 'Seabed Cabled Platform', 'ID': 'OOI_CE04OSBP', 'Name': 'CE04OSBP'}\n",
      "{'Description': 'OR Offshore Surface Mooring', 'URL': 'http://oceanobservatories.org/site/ce04ossm/', 'Provider URL': 'http://oceanobservatories.org', 'Region': 'Newport, OOI Oregon Line', 'Lon': '-124.95', 'State / Province': 'Oregon', 'Provider': 'OOI', 'Lat': '44.37', 'Provider Type': 'Academic', 'Type': 'Buoy', 'ID': 'OOI_CE04OSSM', 'Name': 'CE04OSSM'}\n",
      "{'Description': 'WA Inshore Surface Mooring', 'URL': 'http://oceanobservatories.org/site/ce06issm/', 'Provider URL': 'http://oceanobservatories.org', 'Region': 'Grays Harbor, OOI Washington Line', 'Lon': '-124.27', 'State / Province': 'Washington', 'Provider': 'OOI', 'Lat': '47.13', 'Provider Type': 'Academic', 'Type': 'Buoy', 'ID': 'OOI_CE06ISSM', 'Name': 'CE06ISSM'}\n",
      "{'Description': 'WA Shelf Surface Mooring', 'URL': 'http://oceanobservatories.org/site/ce07shsm/', 'Provider URL': 'http://oceanobservatories.org', 'Region': 'Grays Harbor, OOI Washington Line', 'Lon': '-124.57', 'State / Province': 'Washington', 'Provider': 'OOI', 'Lat': '46.99', 'Provider Type': 'Academic', 'Type': 'Buoy', 'ID': 'OOI_CE07SHSM', 'Name': 'CE07SHSM'}\n",
      "{'Description': 'WA Offshore Profiler Mooring', 'URL': 'http://oceanobservatories.org/site/ce09ospm/', 'Provider URL': 'http://oceanobservatories.org', 'Region': 'Grays Harbor, OOI Washington Line', 'Lon': '-124.9715', 'State / Province': 'Washington', 'Provider': 'OOI', 'Lat': '46.8517', 'Provider Type': 'Academic', 'Type': 'Buoy', 'ID': 'OOI_CE09OSPM', 'Name': 'CE09OSPM'}\n",
      "{'Description': 'WA Offshore Surface Mooring', 'URL': 'http://oceanobservatories.org/site/ce09ossm/', 'Provider URL': 'http://oceanobservatories.org', 'Region': 'Grays Harbor, OOI Washington Line', 'Lon': '-124.97', 'State / Province': 'Washington', 'Provider': 'OOI', 'Lat': '46.85', 'Provider Type': 'Academic', 'Type': 'Buoy', 'ID': 'OOI_CE09OSSM', 'Name': 'CE09OSSM'}\n"
     ]
    }
   ],
   "source": [
    "with open(os.path.join(pth,fcsv),'rb') as f:\n",
    "    reader = csv.DictReader(f)\n",
    "    for row in reader:\n",
    "        print row # Notice that numbers are strings in this case"
   ]
  },
  {
   "cell_type": "markdown",
   "metadata": {},
   "source": [
    "## Use shapely to make points\n",
    "Since csv module doesn't distinguish between types, shapely is used to make points"
   ]
  },
  {
   "cell_type": "code",
   "execution_count": 5,
   "metadata": {
    "collapsed": false
   },
   "outputs": [
    {
     "name": "stdout",
     "output_type": "stream",
     "text": [
      "POINT (-124.0957 44.6585)\n",
      "POINT (-124.31 44.64)\n",
      "POINT (-124.31 44.64)\n",
      "POINT (-124.95 44.37)\n",
      "POINT (-124.95 44.37)\n",
      "POINT (-124.27 47.13)\n",
      "POINT (-124.57 46.99)\n",
      "POINT (-124.9715 46.8517)\n",
      "POINT (-124.97 46.85)\n"
     ]
    }
   ],
   "source": [
    "with open(os.path.join(pth,fcsv), 'rb') as f:\n",
    "    reader = csv.DictReader(f)\n",
    "    for row in reader:\n",
    "        point = Point(float(row['Lon']),float(row['Lat']))\n",
    "        print point"
   ]
  },
  {
   "cell_type": "markdown",
   "metadata": {},
   "source": [
    "## Geopandas reading a geopackage"
   ]
  },
  {
   "cell_type": "code",
   "execution_count": 6,
   "metadata": {
    "collapsed": false
   },
   "outputs": [],
   "source": [
    "import pandas as pd\n",
    "from geopandas import GeoDataFrame\n",
    "from shapely.geometry import Point\n",
    "import matplotlib.pyplot as plt\n",
    "import geopandas as gpd\n",
    "import pyproj"
   ]
  },
  {
   "cell_type": "code",
   "execution_count": 7,
   "metadata": {
    "collapsed": false
   },
   "outputs": [
    {
     "name": "stdout",
     "output_type": "stream",
     "text": [
      "geopandas version: 0.1.1\n"
     ]
    }
   ],
   "source": [
    "print \"geopandas version: {}\".format(gpd.__version__)"
   ]
  },
  {
   "cell_type": "code",
   "execution_count": 8,
   "metadata": {
    "collapsed": false
   },
   "outputs": [],
   "source": [
    "# Test reading geopackage\n",
    "geopackage = gpd.read_file(os.path.join(pth,fname))"
   ]
  },
  {
   "cell_type": "code",
   "execution_count": 9,
   "metadata": {
    "collapsed": false
   },
   "outputs": [
    {
     "data": {
      "text/html": [
       "<div>\n",
       "<table border=\"1\" class=\"dataframe\">\n",
       "  <thead>\n",
       "    <tr style=\"text-align: right;\">\n",
       "      <th></th>\n",
       "      <th>Description</th>\n",
       "      <th>ID</th>\n",
       "      <th>Lat</th>\n",
       "      <th>Lon</th>\n",
       "      <th>Name</th>\n",
       "      <th>Region</th>\n",
       "      <th>Type</th>\n",
       "      <th>URL</th>\n",
       "      <th>geometry</th>\n",
       "    </tr>\n",
       "  </thead>\n",
       "  <tbody>\n",
       "    <tr>\n",
       "      <th>0</th>\n",
       "      <td>UW/NANOOS NEMO Subsurface profiler with NOAA E...</td>\n",
       "      <td>APL_Nemo</td>\n",
       "      <td>47.9740</td>\n",
       "      <td>-124.9550</td>\n",
       "      <td>APL-UW NEMO-ESP Profiler</td>\n",
       "      <td>La Push</td>\n",
       "      <td>Buoy</td>\n",
       "      <td>None</td>\n",
       "      <td>POINT (-124.955 47.974)</td>\n",
       "    </tr>\n",
       "    <tr>\n",
       "      <th>1</th>\n",
       "      <td>Ćháʔba· UW/NANOOS Moored Buoy near La Push</td>\n",
       "      <td>APL_Chaba</td>\n",
       "      <td>47.9672</td>\n",
       "      <td>-124.9502</td>\n",
       "      <td>APL-UW Ćháʔba·</td>\n",
       "      <td>La Push</td>\n",
       "      <td>Buoy</td>\n",
       "      <td>http://wavechasers.apl.washington.edu/projects...</td>\n",
       "      <td>POINT (-124.9502 47.9672)</td>\n",
       "    </tr>\n",
       "  </tbody>\n",
       "</table>\n",
       "</div>"
      ],
      "text/plain": [
       "                                         Description         ID      Lat  \\\n",
       "0  UW/NANOOS NEMO Subsurface profiler with NOAA E...   APL_Nemo  47.9740   \n",
       "1         Ćháʔba· UW/NANOOS Moored Buoy near La Push  APL_Chaba  47.9672   \n",
       "\n",
       "        Lon                      Name   Region  Type  \\\n",
       "0 -124.9550  APL-UW NEMO-ESP Profiler  La Push  Buoy   \n",
       "1 -124.9502            APL-UW Ćháʔba·  La Push  Buoy   \n",
       "\n",
       "                                                 URL  \\\n",
       "0                                               None   \n",
       "1  http://wavechasers.apl.washington.edu/projects...   \n",
       "\n",
       "                    geometry  \n",
       "0    POINT (-124.955 47.974)  \n",
       "1  POINT (-124.9502 47.9672)  "
      ]
     },
     "execution_count": 9,
     "metadata": {},
     "output_type": "execute_result"
    }
   ],
   "source": [
    "geopackage.head(2)"
   ]
  },
  {
   "cell_type": "markdown",
   "metadata": {
    "collapsed": true
   },
   "source": [
    "## Write geopandas dataframe to geopackage"
   ]
  },
  {
   "cell_type": "code",
   "execution_count": 10,
   "metadata": {
    "collapsed": true
   },
   "outputs": [],
   "source": [
    "df = pd.read_csv(os.path.join(pth,fcsv))"
   ]
  },
  {
   "cell_type": "code",
   "execution_count": 11,
   "metadata": {
    "collapsed": false
   },
   "outputs": [
    {
     "name": "stdout",
     "output_type": "stream",
     "text": [
      "Original Column Header: ['ID' 'Name' 'Description' 'Type' 'Lat' 'Lon' 'URL' 'Region'\n",
      " 'State / Province' 'Provider' 'Provider Type' 'Provider URL' 'geometry']\n",
      "\n",
      "Renamed Column Header: ['ID' 'Name' 'Description' 'Type' 'Lat' 'Lon' 'URL' 'Region'\n",
      " 'State_or_Province' 'Provider' 'Provider_Type' 'Provider_URL' 'geometry']\n"
     ]
    }
   ],
   "source": [
    "# Assign CRS, retrieved from epsg.io, the example below is EPSG:4326\n",
    "crs = 'GEOGCS[\"WGS 84\",DATUM[\"WGS_1984\",SPHEROID[\"WGS 84\",6378137,298.257223563,AUTHORITY[\"EPSG\",\"7030\"]],AUTHORITY[\"EPSG\",\"6326\"]],PRIMEM[\"Greenwich\",0,AUTHORITY[\"EPSG\",\"8901\"]],UNIT[\"degree\",0.0174532925199433,AUTHORITY[\"EPSG\",\"9122\"]],AUTHORITY[\"EPSG\",\"4326\"]]'\n",
    "geometry = [Point(xy) for xy in zip(df.Lon, df.Lat)]\n",
    "geo_df = GeoDataFrame(df, crs=crs, geometry=geometry)\n",
    "print \"Original Column Header: {}\\n\".format(geo_df.columns.values)\n",
    "\n",
    "\n",
    "# Renamed the problematic keys\n",
    "renamed = geo_df.rename(columns={'Provider URL':'Provider_URL',\n",
    "                                 'Provider':'Provider',\n",
    "                                 'Provider Type':'Provider_Type',\n",
    "                                 'State / Province':'State_or_Province'})\n",
    "print \"Renamed Column Header: {}\".format(renamed.columns.values)\n",
    "\n",
    "# Removing the problematic keys\n",
    "# Problematic keys can either be renamed or removed.\n",
    "# package = geo_df.drop(geo_df.columns[[8,9,10,11]],axis=1)\n",
    "# print package.columns.values "
   ]
  },
  {
   "cell_type": "code",
   "execution_count": 12,
   "metadata": {
    "collapsed": false
   },
   "outputs": [],
   "source": [
    "# Write the renamed geodataframe to a geopackage\n",
    "renamed.to_file('OOI_Assets.gpkg',driver='GPKG')"
   ]
  },
  {
   "cell_type": "code",
   "execution_count": 13,
   "metadata": {
    "collapsed": false
   },
   "outputs": [
    {
     "data": {
      "text/html": [
       "<div>\n",
       "<table border=\"1\" class=\"dataframe\">\n",
       "  <thead>\n",
       "    <tr style=\"text-align: right;\">\n",
       "      <th></th>\n",
       "      <th>Description</th>\n",
       "      <th>ID</th>\n",
       "      <th>Lat</th>\n",
       "      <th>Lon</th>\n",
       "      <th>Name</th>\n",
       "      <th>Provider</th>\n",
       "      <th>Provider_Type</th>\n",
       "      <th>Provider_URL</th>\n",
       "      <th>Region</th>\n",
       "      <th>State_or_Province</th>\n",
       "      <th>Type</th>\n",
       "      <th>URL</th>\n",
       "      <th>geometry</th>\n",
       "    </tr>\n",
       "  </thead>\n",
       "  <tbody>\n",
       "    <tr>\n",
       "      <th>0</th>\n",
       "      <td>OR Inshore Surface Mooring</td>\n",
       "      <td>OOI_CE01ISSM</td>\n",
       "      <td>44.6585</td>\n",
       "      <td>-124.0957</td>\n",
       "      <td>CE01ISSM</td>\n",
       "      <td>OOI</td>\n",
       "      <td>Academic</td>\n",
       "      <td>http://oceanobservatories.org</td>\n",
       "      <td>Newport, OOI Oregon Line</td>\n",
       "      <td>Oregon</td>\n",
       "      <td>Buoy</td>\n",
       "      <td>http://oceanobservatories.org/site/ce01issm/</td>\n",
       "      <td>POINT (-124.0957 44.6585)</td>\n",
       "    </tr>\n",
       "    <tr>\n",
       "      <th>1</th>\n",
       "      <td>OR Shelf Cabled Benthic Experiment Package</td>\n",
       "      <td>OOI_CE02SHBP</td>\n",
       "      <td>44.6400</td>\n",
       "      <td>-124.3100</td>\n",
       "      <td>CE02SHBP</td>\n",
       "      <td>OOI</td>\n",
       "      <td>Academic</td>\n",
       "      <td>http://oceanobservatories.org</td>\n",
       "      <td>Newport, OOI Oregon Line</td>\n",
       "      <td>Oregon</td>\n",
       "      <td>Seabed Cabled Platform</td>\n",
       "      <td>http://oceanobservatories.org/site/ce02shbp/</td>\n",
       "      <td>POINT (-124.31 44.64)</td>\n",
       "    </tr>\n",
       "    <tr>\n",
       "      <th>2</th>\n",
       "      <td>OR Shelf Surface Mooring</td>\n",
       "      <td>OOI_CE02SHSM</td>\n",
       "      <td>44.6400</td>\n",
       "      <td>-124.3100</td>\n",
       "      <td>CE02SHSM</td>\n",
       "      <td>OOI</td>\n",
       "      <td>Academic</td>\n",
       "      <td>http://oceanobservatories.org</td>\n",
       "      <td>Newport, OOI Oregon Line</td>\n",
       "      <td>Oregon</td>\n",
       "      <td>Buoy</td>\n",
       "      <td>http://oceanobservatories.org/site/ce02shsm/</td>\n",
       "      <td>POINT (-124.31 44.64)</td>\n",
       "    </tr>\n",
       "    <tr>\n",
       "      <th>3</th>\n",
       "      <td>OR Offshore Cabled Benthic Experiment Package</td>\n",
       "      <td>OOI_CE04OSBP</td>\n",
       "      <td>44.3700</td>\n",
       "      <td>-124.9500</td>\n",
       "      <td>CE04OSBP</td>\n",
       "      <td>OOI</td>\n",
       "      <td>Academic</td>\n",
       "      <td>http://oceanobservatories.org</td>\n",
       "      <td>Newport, OOI Oregon Line</td>\n",
       "      <td>Oregon</td>\n",
       "      <td>Seabed Cabled Platform</td>\n",
       "      <td>http://oceanobservatories.org/site/ce04osbp/</td>\n",
       "      <td>POINT (-124.95 44.37)</td>\n",
       "    </tr>\n",
       "    <tr>\n",
       "      <th>4</th>\n",
       "      <td>OR Offshore Surface Mooring</td>\n",
       "      <td>OOI_CE04OSSM</td>\n",
       "      <td>44.3700</td>\n",
       "      <td>-124.9500</td>\n",
       "      <td>CE04OSSM</td>\n",
       "      <td>OOI</td>\n",
       "      <td>Academic</td>\n",
       "      <td>http://oceanobservatories.org</td>\n",
       "      <td>Newport, OOI Oregon Line</td>\n",
       "      <td>Oregon</td>\n",
       "      <td>Buoy</td>\n",
       "      <td>http://oceanobservatories.org/site/ce04ossm/</td>\n",
       "      <td>POINT (-124.95 44.37)</td>\n",
       "    </tr>\n",
       "    <tr>\n",
       "      <th>5</th>\n",
       "      <td>WA Inshore Surface Mooring</td>\n",
       "      <td>OOI_CE06ISSM</td>\n",
       "      <td>47.1300</td>\n",
       "      <td>-124.2700</td>\n",
       "      <td>CE06ISSM</td>\n",
       "      <td>OOI</td>\n",
       "      <td>Academic</td>\n",
       "      <td>http://oceanobservatories.org</td>\n",
       "      <td>Grays Harbor, OOI Washington Line</td>\n",
       "      <td>Washington</td>\n",
       "      <td>Buoy</td>\n",
       "      <td>http://oceanobservatories.org/site/ce06issm/</td>\n",
       "      <td>POINT (-124.27 47.13)</td>\n",
       "    </tr>\n",
       "    <tr>\n",
       "      <th>6</th>\n",
       "      <td>WA Shelf Surface Mooring</td>\n",
       "      <td>OOI_CE07SHSM</td>\n",
       "      <td>46.9900</td>\n",
       "      <td>-124.5700</td>\n",
       "      <td>CE07SHSM</td>\n",
       "      <td>OOI</td>\n",
       "      <td>Academic</td>\n",
       "      <td>http://oceanobservatories.org</td>\n",
       "      <td>Grays Harbor, OOI Washington Line</td>\n",
       "      <td>Washington</td>\n",
       "      <td>Buoy</td>\n",
       "      <td>http://oceanobservatories.org/site/ce07shsm/</td>\n",
       "      <td>POINT (-124.57 46.99)</td>\n",
       "    </tr>\n",
       "    <tr>\n",
       "      <th>7</th>\n",
       "      <td>WA Offshore Profiler Mooring</td>\n",
       "      <td>OOI_CE09OSPM</td>\n",
       "      <td>46.8517</td>\n",
       "      <td>-124.9715</td>\n",
       "      <td>CE09OSPM</td>\n",
       "      <td>OOI</td>\n",
       "      <td>Academic</td>\n",
       "      <td>http://oceanobservatories.org</td>\n",
       "      <td>Grays Harbor, OOI Washington Line</td>\n",
       "      <td>Washington</td>\n",
       "      <td>Buoy</td>\n",
       "      <td>http://oceanobservatories.org/site/ce09ospm/</td>\n",
       "      <td>POINT (-124.9715 46.8517)</td>\n",
       "    </tr>\n",
       "    <tr>\n",
       "      <th>8</th>\n",
       "      <td>WA Offshore Surface Mooring</td>\n",
       "      <td>OOI_CE09OSSM</td>\n",
       "      <td>46.8500</td>\n",
       "      <td>-124.9700</td>\n",
       "      <td>CE09OSSM</td>\n",
       "      <td>OOI</td>\n",
       "      <td>Academic</td>\n",
       "      <td>http://oceanobservatories.org</td>\n",
       "      <td>Grays Harbor, OOI Washington Line</td>\n",
       "      <td>Washington</td>\n",
       "      <td>Buoy</td>\n",
       "      <td>http://oceanobservatories.org/site/ce09ossm/</td>\n",
       "      <td>POINT (-124.97 46.85)</td>\n",
       "    </tr>\n",
       "  </tbody>\n",
       "</table>\n",
       "</div>"
      ],
      "text/plain": [
       "                                     Description            ID      Lat  \\\n",
       "0                     OR Inshore Surface Mooring  OOI_CE01ISSM  44.6585   \n",
       "1     OR Shelf Cabled Benthic Experiment Package  OOI_CE02SHBP  44.6400   \n",
       "2                       OR Shelf Surface Mooring  OOI_CE02SHSM  44.6400   \n",
       "3  OR Offshore Cabled Benthic Experiment Package  OOI_CE04OSBP  44.3700   \n",
       "4                    OR Offshore Surface Mooring  OOI_CE04OSSM  44.3700   \n",
       "5                     WA Inshore Surface Mooring  OOI_CE06ISSM  47.1300   \n",
       "6                       WA Shelf Surface Mooring  OOI_CE07SHSM  46.9900   \n",
       "7                   WA Offshore Profiler Mooring  OOI_CE09OSPM  46.8517   \n",
       "8                    WA Offshore Surface Mooring  OOI_CE09OSSM  46.8500   \n",
       "\n",
       "        Lon      Name Provider Provider_Type                   Provider_URL  \\\n",
       "0 -124.0957  CE01ISSM      OOI      Academic  http://oceanobservatories.org   \n",
       "1 -124.3100  CE02SHBP      OOI      Academic  http://oceanobservatories.org   \n",
       "2 -124.3100  CE02SHSM      OOI      Academic  http://oceanobservatories.org   \n",
       "3 -124.9500  CE04OSBP      OOI      Academic  http://oceanobservatories.org   \n",
       "4 -124.9500  CE04OSSM      OOI      Academic  http://oceanobservatories.org   \n",
       "5 -124.2700  CE06ISSM      OOI      Academic  http://oceanobservatories.org   \n",
       "6 -124.5700  CE07SHSM      OOI      Academic  http://oceanobservatories.org   \n",
       "7 -124.9715  CE09OSPM      OOI      Academic  http://oceanobservatories.org   \n",
       "8 -124.9700  CE09OSSM      OOI      Academic  http://oceanobservatories.org   \n",
       "\n",
       "                              Region State_or_Province  \\\n",
       "0           Newport, OOI Oregon Line            Oregon   \n",
       "1           Newport, OOI Oregon Line            Oregon   \n",
       "2           Newport, OOI Oregon Line            Oregon   \n",
       "3           Newport, OOI Oregon Line            Oregon   \n",
       "4           Newport, OOI Oregon Line            Oregon   \n",
       "5  Grays Harbor, OOI Washington Line        Washington   \n",
       "6  Grays Harbor, OOI Washington Line        Washington   \n",
       "7  Grays Harbor, OOI Washington Line        Washington   \n",
       "8  Grays Harbor, OOI Washington Line        Washington   \n",
       "\n",
       "                     Type                                           URL  \\\n",
       "0                    Buoy  http://oceanobservatories.org/site/ce01issm/   \n",
       "1  Seabed Cabled Platform  http://oceanobservatories.org/site/ce02shbp/   \n",
       "2                    Buoy  http://oceanobservatories.org/site/ce02shsm/   \n",
       "3  Seabed Cabled Platform  http://oceanobservatories.org/site/ce04osbp/   \n",
       "4                    Buoy  http://oceanobservatories.org/site/ce04ossm/   \n",
       "5                    Buoy  http://oceanobservatories.org/site/ce06issm/   \n",
       "6                    Buoy  http://oceanobservatories.org/site/ce07shsm/   \n",
       "7                    Buoy  http://oceanobservatories.org/site/ce09ospm/   \n",
       "8                    Buoy  http://oceanobservatories.org/site/ce09ossm/   \n",
       "\n",
       "                    geometry  \n",
       "0  POINT (-124.0957 44.6585)  \n",
       "1      POINT (-124.31 44.64)  \n",
       "2      POINT (-124.31 44.64)  \n",
       "3      POINT (-124.95 44.37)  \n",
       "4      POINT (-124.95 44.37)  \n",
       "5      POINT (-124.27 47.13)  \n",
       "6      POINT (-124.57 46.99)  \n",
       "7  POINT (-124.9715 46.8517)  \n",
       "8      POINT (-124.97 46.85)  "
      ]
     },
     "execution_count": 13,
     "metadata": {},
     "output_type": "execute_result"
    }
   ],
   "source": [
    "# Check if the geopackage was written correctly\n",
    "test = gpd.read_file('OOI_Assets.gpkg')\n",
    "test"
   ]
  },
  {
   "cell_type": "markdown",
   "metadata": {
    "collapsed": true
   },
   "source": [
    "## Uploading Geopackage to GeoServer"
   ]
  },
  {
   "cell_type": "code",
   "execution_count": 14,
   "metadata": {
    "collapsed": true
   },
   "outputs": [],
   "source": [
    "# Import the Catalog module\n",
    "from geoserver.catalog import Catalog\n",
    "# Import subprocess to use cURL REST API since gsconfig, doesn't seem to have this capability anymore\n",
    "import subprocess"
   ]
  },
  {
   "cell_type": "code",
   "execution_count": 15,
   "metadata": {
    "collapsed": true
   },
   "outputs": [],
   "source": [
    "# Retrieve catalog from Geoserver Instance via REST (REpresentational State Transfer)\n",
    "cat = Catalog(\"http://data.nanoos.org/geoserver2_8/rest\", username='####', password='####')"
   ]
  },
  {
   "cell_type": "code",
   "execution_count": 16,
   "metadata": {
    "collapsed": false
   },
   "outputs": [
    {
     "name": "stdout",
     "output_type": "stream",
     "text": [
      "[nanoos_dev @ http://data.nanoos.org/geoserver2_8/rest/workspaces/nanoos_dev.xml, czo @ http://data.nanoos.org/geoserver2_8/rest/workspaces/czo.xml, otnnep @ http://data.nanoos.org/geoserver2_8/rest/workspaces/otnnep.xml, nvs_assets @ http://data.nanoos.org/geoserver2_8/rest/workspaces/nvs_assets.xml, xan @ http://data.nanoos.org/geoserver2_8/rest/workspaces/xan.xml, basemaps @ http://data.nanoos.org/geoserver2_8/rest/workspaces/basemaps.xml, oa @ http://data.nanoos.org/geoserver2_8/rest/workspaces/oa.xml, crb @ http://data.nanoos.org/geoserver2_8/rest/workspaces/crb.xml, partners @ http://data.nanoos.org/geoserver2_8/rest/workspaces/partners.xml, nvs @ http://data.nanoos.org/geoserver2_8/rest/workspaces/nvs.xml, drb @ http://data.nanoos.org/geoserver2_8/rest/workspaces/drb.xml]\n"
     ]
    }
   ],
   "source": [
    "# Get list of workspaces\n",
    "print cat.get_workspaces()"
   ]
  },
  {
   "cell_type": "code",
   "execution_count": 17,
   "metadata": {
    "collapsed": false
   },
   "outputs": [
    {
     "name": "stdout",
     "output_type": "stream",
     "text": [
      "nvs_assets\n"
     ]
    }
   ],
   "source": [
    "# Get workspace\n",
    "nvs = cat.get_workspace('nvs_assets')\n",
    "print nvs.name"
   ]
  },
  {
   "cell_type": "code",
   "execution_count": 18,
   "metadata": {
    "collapsed": false
   },
   "outputs": [
    {
     "data": {
      "text/plain": [
       "({'connection': 'keep-alive',\n",
       "  'content-length': '0',\n",
       "  'date': 'Wed, 01 Jun 2016 18:47:23 GMT',\n",
       "  'location': 'http://data.nanoos.org/geoserver2_8/rest/workspaces/nvs_assets/datastores/OOI_Assets',\n",
       "  'server': 'nginx/1.1.19',\n",
       "  'status': '201'},\n",
       " '')"
      ]
     },
     "execution_count": 18,
     "metadata": {},
     "output_type": "execute_result"
    }
   ],
   "source": [
    "# Create the geopackage datastore\n",
    "gpkg_ds = cat.create_datastore('OOI_Assets', workspace=nvs)\n",
    "# Edit the connection parameters\n",
    "gpkg_ds.connection_parameters = {'Connection timeout': '20',\n",
    " 'Evictor run periodicity': '300',\n",
    " 'Evictor tests per run': '3',\n",
    " 'Expose primary keys': 'false',\n",
    " 'Max connection idle time': '300',\n",
    " 'Test while idle': 'true',\n",
    " 'database': 'file:data/geopackages/OOI_Assets.gpkg', # Point to location of geopackage relative to the geoserver data directory\n",
    " 'dbtype': 'geopkg',\n",
    " 'fetch size': '1000',\n",
    " 'max connections': '10',\n",
    " 'min connections': '1',\n",
    " 'namespace': 'http://data.nanoos.org/geoserver2_8/nvs_assets', # Workspace URL\n",
    " 'validate connections': 'true'}\n",
    "# Save datastore\n",
    "cat.save(gpkg_ds)"
   ]
  },
  {
   "cell_type": "code",
   "execution_count": 19,
   "metadata": {
    "collapsed": false
   },
   "outputs": [
    {
     "name": "stdout",
     "output_type": "stream",
     "text": [
      "OOI_Assets\n"
     ]
    }
   ],
   "source": [
    "# Set necessary variables for cURL\n",
    "data_name = 'OOI_Assets'\n",
    "wksp_name = nvs.name\n",
    "ds_name = gpkg_ds.name\n",
    "print ds_name"
   ]
  },
  {
   "cell_type": "code",
   "execution_count": 20,
   "metadata": {
    "collapsed": false
   },
   "outputs": [
    {
     "data": {
      "text/plain": [
       "0"
      ]
     },
     "execution_count": 20,
     "metadata": {},
     "output_type": "execute_result"
    }
   ],
   "source": [
    "# Create layer from geopackage table\n",
    "subprocess.call('curl -v -u ####:#### -XPOST -H \"Content-type: text/xml\" -d \"<featureType><name>{0}</name></featureType>\" http://data.nanoos.org/geoserver2_8/rest/workspaces/{1}/datastores/{2}/featuretypes'.format(data_name,wksp_name,ds_name), shell=True)"
   ]
  },
  {
   "cell_type": "code",
   "execution_count": 21,
   "metadata": {
    "collapsed": false
   },
   "outputs": [
    {
     "data": {
      "text/plain": [
       "({'connection': 'keep-alive',\n",
       "  'content-length': '0',\n",
       "  'date': 'Wed, 01 Jun 2016 18:47:48 GMT',\n",
       "  'server': 'nginx/1.1.19',\n",
       "  'status': '200'},\n",
       " '')"
      ]
     },
     "execution_count": 21,
     "metadata": {},
     "output_type": "execute_result"
    }
   ],
   "source": [
    "# get the newly published layer w/o any projection\n",
    "layer = cat.get_layer(data_name)\n",
    "\n",
    "# retrieve resource to assign projection\n",
    "rsrc = layer.resource\n",
    "\n",
    "# assign Layer projection\n",
    "rsrc.projection = 'EPSG:4326'\n",
    "\n",
    "# save layer\n",
    "cat.save(rsrc)"
   ]
  },
  {
   "cell_type": "code",
   "execution_count": null,
   "metadata": {
    "collapsed": true
   },
   "outputs": [],
   "source": []
  }
 ],
 "metadata": {
  "kernelspec": {
   "display_name": "Python 2",
   "language": "python",
   "name": "python2"
  },
  "language_info": {
   "codemirror_mode": {
    "name": "ipython",
    "version": 2
   },
   "file_extension": ".py",
   "mimetype": "text/x-python",
   "name": "python",
   "nbconvert_exporter": "python",
   "pygments_lexer": "ipython2",
   "version": "2.7.11"
  }
 },
 "nbformat": 4,
 "nbformat_minor": 0
}
