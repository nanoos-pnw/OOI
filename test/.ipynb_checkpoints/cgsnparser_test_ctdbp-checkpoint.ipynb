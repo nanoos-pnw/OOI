{
 "cells": [
  {
   "cell_type": "markdown",
   "metadata": {},
   "source": [
    "# Testing CGSN CTDP Parser\n",
    "06/10/16"
   ]
  },
  {
   "cell_type": "code",
   "execution_count": 1,
   "metadata": {
    "collapsed": true
   },
   "outputs": [],
   "source": [
    "import sys\n",
    "import os\n",
    "import scipy.io as sio\n",
    "sys.path.insert(0, '/mnt/hgfs/shared_ubuntu/APL/OOI_ipynb/cgsn-parsers/parsers')\n",
    "from parse_ctdbp import Parser as Parser_ctdbp"
   ]
  },
  {
   "cell_type": "markdown",
   "metadata": {},
   "source": [
    "## Test1\n",
    "CE07SHSM, ctdbp1"
   ]
  },
  {
   "cell_type": "code",
   "execution_count": 2,
   "metadata": {
    "collapsed": false
   },
   "outputs": [],
   "source": [
    "pth = \"./\"\n",
    "fname = \"20160609.ctdbp1.log\"\n",
    "infile = os.path.join(pth,fname)\n",
    "outfile = os.path.join(pth,'out')"
   ]
  },
  {
   "cell_type": "code",
   "execution_count": 3,
   "metadata": {
    "collapsed": true
   },
   "outputs": [],
   "source": [
    "ctdbp = Parser_ctdbp(pth + fname, 1)"
   ]
  },
  {
   "cell_type": "code",
   "execution_count": 4,
   "metadata": {
    "collapsed": false
   },
   "outputs": [
    {
     "name": "stdout",
     "output_type": "stream",
     "text": [
      "1\n",
      "./20160609.ctdbp1.log\n",
      "conductivity: []\n",
      "ctd_date_time_string: []\n",
      "dcl_date_time_string: []\n",
      "pressure: []\n",
      "temperature: []\n",
      "time: []\n",
      "\n",
      "None\n"
     ]
    },
    {
     "data": {
      "text/plain": [
       "Bunch(conductivity=[], ctd_date_time_string=[], dcl_date_time_string=[], pressure=[], temperature=[], time=[])"
      ]
     },
     "execution_count": 4,
     "metadata": {},
     "output_type": "execute_result"
    }
   ],
   "source": [
    "print ctdbp.ctd_type\n",
    "print ctdbp.infile\n",
    "print ctdbp.data\n",
    "print ctdbp.load_ascii()\n",
    "ctdbp.data"
   ]
  },
  {
   "cell_type": "code",
   "execution_count": 5,
   "metadata": {
    "collapsed": true
   },
   "outputs": [],
   "source": [
    "ctdbp.parse_data(ctdbp.ctd_type)"
   ]
  },
  {
   "cell_type": "code",
   "execution_count": 6,
   "metadata": {
    "collapsed": false
   },
   "outputs": [
    {
     "data": {
      "text/plain": [
       "Bunch(conductivity=[], ctd_date_time_string=[], dcl_date_time_string=[], pressure=[], temperature=[], time=[])"
      ]
     },
     "execution_count": 6,
     "metadata": {},
     "output_type": "execute_result"
    }
   ],
   "source": [
    "ctdbp.data"
   ]
  },
  {
   "cell_type": "code",
   "execution_count": 7,
   "metadata": {
    "collapsed": false
   },
   "outputs": [],
   "source": [
    "sio.savemat(outfile, ctdbp.data.toDict())"
   ]
  },
  {
   "cell_type": "markdown",
   "metadata": {},
   "source": [
    "## Test2\n",
    "CE06ISSM, ctdbp1"
   ]
  },
  {
   "cell_type": "code",
   "execution_count": 8,
   "metadata": {
    "collapsed": true
   },
   "outputs": [],
   "source": [
    "pth = \"./\"\n",
    "fname = \"1_20160609.ctdbp1.log\"\n",
    "infile = os.path.join(pth,fname)\n",
    "outfile = os.path.join(pth,'out1')"
   ]
  },
  {
   "cell_type": "code",
   "execution_count": 9,
   "metadata": {
    "collapsed": true
   },
   "outputs": [],
   "source": [
    "ctdbp = Parser_ctdbp(pth + fname, 2)"
   ]
  },
  {
   "cell_type": "code",
   "execution_count": 10,
   "metadata": {
    "collapsed": false
   },
   "outputs": [
    {
     "name": "stdout",
     "output_type": "stream",
     "text": [
      "2\n",
      "./1_20160609.ctdbp1.log\n",
      "conductivity: []\n",
      "ctd_date_time_string: []\n",
      "dcl_date_time_string: []\n",
      "oxygen_concentration: []\n",
      "pressure: []\n",
      "temperature: []\n",
      "time: []\n",
      "\n",
      "None\n"
     ]
    },
    {
     "data": {
      "text/plain": [
       "Bunch(conductivity=[], ctd_date_time_string=[], dcl_date_time_string=[], oxygen_concentration=[], pressure=[], temperature=[], time=[])"
      ]
     },
     "execution_count": 10,
     "metadata": {},
     "output_type": "execute_result"
    }
   ],
   "source": [
    "print ctdbp.ctd_type\n",
    "print ctdbp.infile\n",
    "print ctdbp.data\n",
    "print ctdbp.load_ascii()\n",
    "ctdbp.data"
   ]
  },
  {
   "cell_type": "code",
   "execution_count": 11,
   "metadata": {
    "collapsed": true
   },
   "outputs": [],
   "source": [
    "ctdbp.parse_data(ctdbp.ctd_type)"
   ]
  },
  {
   "cell_type": "code",
   "execution_count": 12,
   "metadata": {
    "collapsed": false
   },
   "outputs": [
    {
     "data": {
      "text/plain": [
       "Bunch(conductivity=[3.61025, 3.61478, 3.61481, 3.61978, 3.61855, 3.60754, 3.60747, 3.61844, 3.60519, 3.64313, 3.61281, 3.60996, 3.62024, 3.60449, 3.60414, 3.60385, 3.60356, 3.64129, 3.62611, 3.67478, 3.62272, 3.61382, 3.60986, 3.60338], ctd_date_time_string=['09 Jun 2016 00:29:24', '09 Jun 2016 01:29:23', '09 Jun 2016 02:29:24', '09 Jun 2016 03:29:25', '09 Jun 2016 04:29:24', '09 Jun 2016 05:29:23', '09 Jun 2016 06:29:23', '09 Jun 2016 07:29:22', '09 Jun 2016 08:29:23', '09 Jun 2016 09:29:23', '09 Jun 2016 10:29:25', '09 Jun 2016 11:29:25', '09 Jun 2016 12:29:22', '09 Jun 2016 13:29:23', '09 Jun 2016 14:29:22', '09 Jun 2016 15:29:22', '09 Jun 2016 16:29:23', '09 Jun 2016 17:29:24', '09 Jun 2016 18:29:24', '09 Jun 2016 19:29:24', '09 Jun 2016 20:29:23', '09 Jun 2016 21:29:24', '09 Jun 2016 22:29:24', '09 Jun 2016 23:29:24'], dcl_date_time_string=['2016/06/09 00:29:23.644', '2016/06/09 01:29:23.000', '2016/06/09 02:29:24.153', '2016/06/09 03:29:24.649', '2016/06/09 04:29:24.084', '2016/06/09 05:29:22.823', '2016/06/09 06:29:22.829', '2016/06/09 07:29:21.977', '2016/06/09 08:29:22.891', '2016/06/09 09:29:23.326', '2016/06/09 10:29:24.588', '2016/06/09 11:29:24.952', '2016/06/09 12:29:22.528', '2016/06/09 13:29:23.319', '2016/06/09 14:29:22.323', '2016/06/09 15:29:22.258', '2016/06/09 16:29:23.522', '2016/06/09 17:29:23.682', '2016/06/09 18:29:24.089', '2016/06/09 19:29:24.013', '2016/06/09 20:29:22.757', '2016/06/09 21:29:23.761', '2016/06/09 22:29:23.983', '2016/06/09 23:29:24.261'], oxygen_concentration=['54.037', '51.973', '49.069', '53.478', '53.062', '53.408', '55.254', '55.983', '58.091', '61.809', '58.695', '51.742', '44.402', '38.774', '37.156', '37.382', '41.336', '48.297', '54.904', '61.959', '50.020', '43.108', '31.861', '24.478'], pressure=[7.332, 7.348, 7.43, 7.37, 7.22, 7.113, 7.3, 7.406, 7.391, 7.278, 7.372, 7.351, 7.387, 7.335, 7.313, 7.192, 7.414, 7.381, 7.31, 7.279, 7.304, 7.32, 7.29, 7.262], temperature=[10.0334, 10.0579, 10.0882, 10.1075, 10.0969, 9.9644, 9.9629, 10.1206, 10.0165, 10.5596, 10.1205, 10.0575, 10.146, 9.9742, 9.9711, 9.8514, 9.8241, 10.4397, 10.2938, 11.0347, 10.3086, 10.1771, 10.1479, 10.0953], time=[1465432163.644, 1465435763.0, 1465439364.153, 1465442964.649, 1465446564.084, 1465450162.823, 1465453762.829, 1465457361.977, 1465460962.891, 1465464563.326, 1465468164.588, 1465471764.952, 1465475362.528, 1465478963.319, 1465482562.323, 1465486162.258, 1465489763.522, 1465493363.682, 1465496964.089, 1465500564.013, 1465504162.757, 1465507763.761, 1465511363.983, 1465514964.261])"
      ]
     },
     "execution_count": 12,
     "metadata": {},
     "output_type": "execute_result"
    }
   ],
   "source": [
    "ctdbp.data"
   ]
  },
  {
   "cell_type": "code",
   "execution_count": 13,
   "metadata": {
    "collapsed": true
   },
   "outputs": [],
   "source": [
    "sio.savemat(outfile, ctdbp.data.toDict())"
   ]
  },
  {
   "cell_type": "code",
   "execution_count": null,
   "metadata": {
    "collapsed": true
   },
   "outputs": [],
   "source": []
  }
 ],
 "metadata": {
  "kernelspec": {
   "display_name": "Python 2",
   "language": "python",
   "name": "python2"
  },
  "language_info": {
   "codemirror_mode": {
    "name": "ipython",
    "version": 2
   },
   "file_extension": ".py",
   "mimetype": "text/x-python",
   "name": "python",
   "nbconvert_exporter": "python",
   "pygments_lexer": "ipython2",
   "version": "2.7.11"
  }
 },
 "nbformat": 4,
 "nbformat_minor": 0
}
