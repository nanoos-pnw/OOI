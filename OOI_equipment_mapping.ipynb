{
 "cells": [
  {
   "cell_type": "markdown",
   "metadata": {},
   "source": [
    "# OOI Equipment mapping\n",
    "- by Landung Setiawan\n",
    "- 6/14/2016\n",
    "- This notebook is for retrieving information from google sheets and then mapping to a JSON file, each instrument has its own JSON file configuration\n",
    "- The required libraries for this manipulation is *gspread*, *oauth2client*, and *pycrypto*"
   ]
  },
  {
   "cell_type": "code",
   "execution_count": 1,
   "metadata": {
    "collapsed": false
   },
   "outputs": [
    {
     "name": "stdout",
     "output_type": "stream",
     "text": [
      "oauth2client version : 1.5.2\n",
      "gspread version : 0.3.0\n"
     ]
    }
   ],
   "source": [
    "# Google Authentication Libraries\n",
    "import oauth2client, gspread\n",
    "import json\n",
    "\n",
    "# oauth2client version check and gspread\n",
    "oauth_ver = oauth2client.__version__\n",
    "gspread_ver = gspread.__version__\n",
    "\n",
    "print \"oauth2client version : {}\".format(oauth_ver) \n",
    "print \"gspread version : {}\".format(gspread_ver)"
   ]
  },
  {
   "cell_type": "code",
   "execution_count": 2,
   "metadata": {
    "collapsed": false
   },
   "outputs": [],
   "source": [
    "if oauth_ver < \"2.0.2\":\n",
    "    from oauth2client.client import SignedJwtAssertionCredentials\n",
    "\n",
    "    json_key = json.load(open('XXXX.json'))\n",
    "    # Get scope for google sheets\n",
    "    # Gather all spreadsheets shared with the client_email: XXXX@appspot.gserviceaccount.com\n",
    "    scope = ['https://spreadsheets.google.com/feeds']\n",
    "    \n",
    "    # Retrieve credentials from JSON key of service account\n",
    "    credentials = SignedJwtAssertionCredentials(json_key['client_email'], json_key['private_key'], scope)\n",
    "    \n",
    "    # Authorize gspread to connect to google sheets\n",
    "    gc = gspread.authorize(credentials)\n",
    "else:\n",
    "    from oauth2client.service_account import ServiceAccountCredentials\n",
    "    # Get scope for google sheets\n",
    "    # Gather all spreadsheets shared with the client_email: XXXX@appspot.gserviceaccount.com\n",
    "    scope = ['https://spreadsheets.google.com/feeds']\n",
    "\n",
    "    # Retrieve credentials from JSON key of service account\n",
    "    credentials = ServiceAccountCredentials.from_json_keyfile_name('XXXX.json', scope)\n",
    "\n",
    "    # Authorize gspread to connect to google sheets\n",
    "    gc = gspread.authorize(credentials)"
   ]
  },
  {
   "cell_type": "code",
   "execution_count": 3,
   "metadata": {
    "collapsed": false
   },
   "outputs": [
    {
     "name": "stdout",
     "output_type": "stream",
     "text": [
      "0 sensor_configurations_mappings\n",
      "1 GOA-ON_structering\n",
      "2 2016_Spring_NEMO\n",
      "3 ooi_equipment\n",
      "4 AGGI_Table\n",
      "5 WINTER 2014 SCHEDULE\n",
      "6 ocean_extents\n",
      "7 nanoos_asset_list_20160427T092836\n",
      "8 nanoos_asset_list_20160429T083128\n"
     ]
    }
   ],
   "source": [
    "# Get all spreadsheets available for NANOOS\n",
    "gsheets = gc.openall()\n",
    "# Get title of the spreadsheets\n",
    "for i in range(0,len(gsheets)):\n",
    "    print \"{0} {1}\".format(i,gsheets[i].title)"
   ]
  },
  {
   "cell_type": "code",
   "execution_count": 4,
   "metadata": {
    "collapsed": false
   },
   "outputs": [],
   "source": [
    "# Open sensor_configurations_mappings only\n",
    "sc = gc.open(\"sensor_configurations_mappings\")"
   ]
  },
  {
   "cell_type": "code",
   "execution_count": 5,
   "metadata": {
    "collapsed": false
   },
   "outputs": [
    {
     "data": {
      "text/plain": [
       "[<Worksheet 'instruments' id:o5yzc1h>, <Worksheet 'measurements' id:odfoenj>]"
      ]
     },
     "execution_count": 5,
     "metadata": {},
     "output_type": "execute_result"
    }
   ],
   "source": [
    "# Get all worksheets in a sheet\n",
    "wks = sc.worksheets()\n",
    "wks"
   ]
  },
  {
   "cell_type": "code",
   "execution_count": 6,
   "metadata": {
    "collapsed": false
   },
   "outputs": [
    {
     "name": "stdout",
     "output_type": "stream",
     "text": [
      "<Worksheet 'instruments' id:o5yzc1h> <Worksheet 'measurements' id:odfoenj>\n"
     ]
    }
   ],
   "source": [
    "s1 = sc.get_worksheet(0)\n",
    "s2 = sc.get_worksheet(1)\n",
    "print s1, s2"
   ]
  },
  {
   "cell_type": "markdown",
   "metadata": {},
   "source": [
    "## Parsing data to a pandas dataframe\n",
    "- Now that connection has been established, data is parsed to be viewed"
   ]
  },
  {
   "cell_type": "code",
   "execution_count": 7,
   "metadata": {
    "collapsed": false,
    "scrolled": true
   },
   "outputs": [
    {
     "name": "stderr",
     "output_type": "stream",
     "text": [
      "/home/lsetiawan/anaconda2/envs/uwapl_em_mc_1aui/lib/python2.7/site-packages/matplotlib/font_manager.py:273: UserWarning: Matplotlib is building the font cache using fc-list. This may take a moment.\n",
      "  warnings.warn('Matplotlib is building the font cache using fc-list. This may take a moment.')\n",
      "/home/lsetiawan/anaconda2/envs/uwapl_em_mc_1aui/lib/python2.7/site-packages/pytz/__init__.py:29: UserWarning: Module argparse was already imported from /home/lsetiawan/anaconda2/envs/uwapl_em_mc_1aui/lib/python2.7/argparse.pyc, but /home/lsetiawan/anaconda2/envs/uwapl_em_mc_1aui/lib/python2.7/site-packages/argparse-1.4.0-py2.7.egg is being added to sys.path\n",
      "  from pkg_resources import resource_stream\n"
     ]
    },
    {
     "name": "stdout",
     "output_type": "stream",
     "text": [
      "pandas version: 0.18.1\n",
      "numpy version: 1.10.4\n"
     ]
    }
   ],
   "source": [
    "# Import pandas and numpy to make data easier to view\n",
    "%matplotlib inline\n",
    "import pandas as pd\n",
    "import numpy as np\n",
    "import matplotlib\n",
    "import matplotlib.pyplot as plt\n",
    "print \"pandas version: {}\".format(pd.__version__)\n",
    "print \"numpy version: {}\".format(np.__version__)"
   ]
  },
  {
   "cell_type": "code",
   "execution_count": 8,
   "metadata": {
    "collapsed": false
   },
   "outputs": [],
   "source": [
    "# Getting all the values of sheet1\n",
    "array1 = s1.get_all_values()\n",
    "array2 = s2.get_all_values()"
   ]
  },
  {
   "cell_type": "code",
   "execution_count": 9,
   "metadata": {
    "collapsed": false
   },
   "outputs": [
    {
     "name": "stderr",
     "output_type": "stream",
     "text": [
      "/home/lsetiawan/anaconda2/envs/uwapl_em_mc_1aui/lib/python2.7/site-packages/ipykernel/__main__.py:5: FutureWarning: convert_objects is deprecated.  Use the data-type specific converters pd.to_datetime, pd.to_timedelta and pd.to_numeric.\n"
     ]
    },
    {
     "data": {
      "text/html": [
       "<div>\n",
       "<table border=\"1\" class=\"dataframe\">\n",
       "  <thead>\n",
       "    <tr style=\"text-align: right;\">\n",
       "      <th></th>\n",
       "      <th>platform_label</th>\n",
       "      <th>depth_m</th>\n",
       "      <th>mfn</th>\n",
       "      <th>base_url</th>\n",
       "      <th>platform</th>\n",
       "      <th>deployment</th>\n",
       "      <th>data_logger</th>\n",
       "      <th>instrument</th>\n",
       "      <th>subtype</th>\n",
       "      <th>raw_url</th>\n",
       "    </tr>\n",
       "  </thead>\n",
       "  <tbody>\n",
       "    <tr>\n",
       "      <th>1</th>\n",
       "      <td>OOI_CE07SHSM</td>\n",
       "      <td>0</td>\n",
       "      <td></td>\n",
       "      <td>https://rawdata.oceanobservatories.org/files</td>\n",
       "      <td>CE07SHSM</td>\n",
       "      <td>D00003</td>\n",
       "      <td>cg_data/dcl11</td>\n",
       "      <td>metbk</td>\n",
       "      <td></td>\n",
       "      <td>https://rawdata.oceanobservatories.org/files/C...</td>\n",
       "    </tr>\n",
       "    <tr>\n",
       "      <th>2</th>\n",
       "      <td>OOI_CE02SHSM</td>\n",
       "      <td>0</td>\n",
       "      <td></td>\n",
       "      <td>https://rawdata.oceanobservatories.org/files</td>\n",
       "      <td>CE02SHSM</td>\n",
       "      <td>D00003</td>\n",
       "      <td>cg_data/dcl11</td>\n",
       "      <td>metbk</td>\n",
       "      <td></td>\n",
       "      <td>https://rawdata.oceanobservatories.org/files/C...</td>\n",
       "    </tr>\n",
       "    <tr>\n",
       "      <th>3</th>\n",
       "      <td>OOI_CE04OSSM</td>\n",
       "      <td>0</td>\n",
       "      <td></td>\n",
       "      <td>https://rawdata.oceanobservatories.org/files</td>\n",
       "      <td>CE04OSSM</td>\n",
       "      <td>D00002</td>\n",
       "      <td>cg_data/dcl11</td>\n",
       "      <td>metbk</td>\n",
       "      <td></td>\n",
       "      <td>https://rawdata.oceanobservatories.org/files/C...</td>\n",
       "    </tr>\n",
       "    <tr>\n",
       "      <th>4</th>\n",
       "      <td>OOI_CE09OSSM</td>\n",
       "      <td>0</td>\n",
       "      <td></td>\n",
       "      <td>https://rawdata.oceanobservatories.org/files</td>\n",
       "      <td>CE09OSSM</td>\n",
       "      <td>D00003</td>\n",
       "      <td>cg_data/dcl11</td>\n",
       "      <td>metbk</td>\n",
       "      <td></td>\n",
       "      <td>https://rawdata.oceanobservatories.org/files/C...</td>\n",
       "    </tr>\n",
       "    <tr>\n",
       "      <th>5</th>\n",
       "      <td>OOI_CE01ISSM</td>\n",
       "      <td>-7</td>\n",
       "      <td></td>\n",
       "      <td>https://rawdata.oceanobservatories.org/files</td>\n",
       "      <td>CE01ISSM</td>\n",
       "      <td>D00005</td>\n",
       "      <td>dcl16</td>\n",
       "      <td>ctdbp1</td>\n",
       "      <td>ctd_type::2</td>\n",
       "      <td>https://rawdata.oceanobservatories.org/files/C...</td>\n",
       "    </tr>\n",
       "  </tbody>\n",
       "</table>\n",
       "</div>"
      ],
      "text/plain": [
       "  platform_label  depth_m mfn                                      base_url  \\\n",
       "1   OOI_CE07SHSM        0      https://rawdata.oceanobservatories.org/files   \n",
       "2   OOI_CE02SHSM        0      https://rawdata.oceanobservatories.org/files   \n",
       "3   OOI_CE04OSSM        0      https://rawdata.oceanobservatories.org/files   \n",
       "4   OOI_CE09OSSM        0      https://rawdata.oceanobservatories.org/files   \n",
       "5   OOI_CE01ISSM       -7      https://rawdata.oceanobservatories.org/files   \n",
       "\n",
       "   platform deployment    data_logger instrument      subtype  \\\n",
       "1  CE07SHSM     D00003  cg_data/dcl11      metbk                \n",
       "2  CE02SHSM     D00003  cg_data/dcl11      metbk                \n",
       "3  CE04OSSM     D00002  cg_data/dcl11      metbk                \n",
       "4  CE09OSSM     D00003  cg_data/dcl11      metbk                \n",
       "5  CE01ISSM     D00005          dcl16     ctdbp1  ctd_type::2   \n",
       "\n",
       "                                             raw_url  \n",
       "1  https://rawdata.oceanobservatories.org/files/C...  \n",
       "2  https://rawdata.oceanobservatories.org/files/C...  \n",
       "3  https://rawdata.oceanobservatories.org/files/C...  \n",
       "4  https://rawdata.oceanobservatories.org/files/C...  \n",
       "5  https://rawdata.oceanobservatories.org/files/C...  "
      ]
     },
     "execution_count": 9,
     "metadata": {},
     "output_type": "execute_result"
    }
   ],
   "source": [
    "# Convert data into pandas dataframe\n",
    "df = pd.DataFrame(array1)\n",
    "df.columns = array1[0]\n",
    "df.drop(df.index[0], inplace=True)\n",
    "df = df.convert_objects(convert_numeric=True)\n",
    "df.head()"
   ]
  },
  {
   "cell_type": "code",
   "execution_count": 10,
   "metadata": {
    "collapsed": false
   },
   "outputs": [
    {
     "name": "stderr",
     "output_type": "stream",
     "text": [
      "/home/lsetiawan/anaconda2/envs/uwapl_em_mc_1aui/lib/python2.7/site-packages/ipykernel/__main__.py:5: FutureWarning: convert_objects is deprecated.  Use the data-type specific converters pd.to_datetime, pd.to_timedelta and pd.to_numeric.\n"
     ]
    },
    {
     "data": {
      "text/html": [
       "<div>\n",
       "<table border=\"1\" class=\"dataframe\">\n",
       "  <thead>\n",
       "    <tr style=\"text-align: right;\">\n",
       "      <th></th>\n",
       "      <th>instrument</th>\n",
       "      <th>data_products</th>\n",
       "      <th>relative_depth_m</th>\n",
       "      <th>OOI_units</th>\n",
       "      <th>measurement_label</th>\n",
       "      <th>notes</th>\n",
       "    </tr>\n",
       "  </thead>\n",
       "  <tbody>\n",
       "    <tr>\n",
       "      <th>1</th>\n",
       "      <td>metbk</td>\n",
       "      <td>air_temperature</td>\n",
       "      <td>4.1</td>\n",
       "      <td>degC</td>\n",
       "      <td>A1_AirTemp</td>\n",
       "      <td></td>\n",
       "    </tr>\n",
       "    <tr>\n",
       "      <th>2</th>\n",
       "      <td>metbk</td>\n",
       "      <td>barometric_pressure</td>\n",
       "      <td>4.3</td>\n",
       "      <td>mbar</td>\n",
       "      <td>A1_BarPress</td>\n",
       "      <td></td>\n",
       "    </tr>\n",
       "    <tr>\n",
       "      <th>3</th>\n",
       "      <td>metbk</td>\n",
       "      <td>relative_humidity</td>\n",
       "      <td>4.1</td>\n",
       "      <td>%</td>\n",
       "      <td>A1_RelHumidity</td>\n",
       "      <td></td>\n",
       "    </tr>\n",
       "    <tr>\n",
       "      <th>4</th>\n",
       "      <td>metbk</td>\n",
       "      <td>eastward_wind_velocity</td>\n",
       "      <td>4.7</td>\n",
       "      <td>m/s</td>\n",
       "      <td>A1_WindSpeed</td>\n",
       "      <td></td>\n",
       "    </tr>\n",
       "    <tr>\n",
       "      <th>5</th>\n",
       "      <td>metbk</td>\n",
       "      <td>northward_wind_velocity</td>\n",
       "      <td>4.7</td>\n",
       "      <td>m/s</td>\n",
       "      <td>A1_WindSpeed</td>\n",
       "      <td></td>\n",
       "    </tr>\n",
       "  </tbody>\n",
       "</table>\n",
       "</div>"
      ],
      "text/plain": [
       "  instrument            data_products  relative_depth_m OOI_units  \\\n",
       "1      metbk          air_temperature               4.1      degC   \n",
       "2      metbk      barometric_pressure               4.3      mbar   \n",
       "3      metbk        relative_humidity               4.1         %   \n",
       "4      metbk   eastward_wind_velocity               4.7       m/s   \n",
       "5      metbk  northward_wind_velocity               4.7       m/s   \n",
       "\n",
       "  measurement_label notes  \n",
       "1        A1_AirTemp        \n",
       "2       A1_BarPress        \n",
       "3    A1_RelHumidity        \n",
       "4      A1_WindSpeed        \n",
       "5      A1_WindSpeed        "
      ]
     },
     "execution_count": 10,
     "metadata": {},
     "output_type": "execute_result"
    }
   ],
   "source": [
    "# Convert data into pandas dataframe\n",
    "df1 = pd.DataFrame(array2)\n",
    "df1.columns = array2[0]\n",
    "df1.drop(df1.index[0], inplace=True)\n",
    "df1 = df1.convert_objects(convert_numeric=True)\n",
    "df1.head()"
   ]
  },
  {
   "cell_type": "code",
   "execution_count": 11,
   "metadata": {
    "collapsed": false
   },
   "outputs": [
    {
     "name": "stdout",
     "output_type": "stream",
     "text": [
      "{\n",
      "    \"CE07SHSM\": {\n",
      "        \"ctdbp1\": {\n",
      "            \"data_logger\": \"cg_data/dcl27\",\n",
      "            \"deployment\": \"D00003\",\n",
      "            \"depth_m\": -7.0,\n",
      "            \"mfn\": false,\n",
      "            \"subtype\": \"1\"\n",
      "        },\n",
      "        \"ctdbp2\": {\n",
      "            \"data_logger\": \"cg_data/dcl37\",\n",
      "            \"deployment\": \"D00003\",\n",
      "            \"depth_m\": -87.0,\n",
      "            \"mfn\": true,\n",
      "            \"subtype\": \"2\"\n",
      "        },\n",
      "        \"metbk\": {\n",
      "            \"data_logger\": \"cg_data/dcl11\",\n",
      "            \"deployment\": \"D00003\",\n",
      "            \"depth_m\": 0.0,\n",
      "            \"mfn\": false,\n",
      "            \"subtype\": null\n",
      "        },\n",
      "        \"wavss\": {\n",
      "            \"data_logger\": \"cg_data/dcl12\",\n",
      "            \"deployment\": \"D00003\",\n",
      "            \"depth_m\": 0.0,\n",
      "            \"mfn\": false,\n",
      "            \"subtype\": null\n",
      "        }\n",
      "    }\n",
      "}\n",
      "{\n",
      "    \"CE02SHSM\": {\n",
      "        \"ctdbp\": {\n",
      "            \"data_logger\": \"cg_data/dcl27\",\n",
      "            \"deployment\": \"D00003\",\n",
      "            \"depth_m\": -7.0,\n",
      "            \"mfn\": false,\n",
      "            \"subtype\": \"1\"\n",
      "        },\n",
      "        \"metbk\": {\n",
      "            \"data_logger\": \"cg_data/dcl11\",\n",
      "            \"deployment\": \"D00003\",\n",
      "            \"depth_m\": 0.0,\n",
      "            \"mfn\": false,\n",
      "            \"subtype\": null\n",
      "        },\n",
      "        \"wavss\": {\n",
      "            \"data_logger\": \"cg_data/dcl12\",\n",
      "            \"deployment\": \"D00003\",\n",
      "            \"depth_m\": 0.0,\n",
      "            \"mfn\": false,\n",
      "            \"subtype\": null\n",
      "        }\n",
      "    }\n",
      "}\n",
      "{\n",
      "    \"CE04OSSM\": {\n",
      "        \"ctdbp\": {\n",
      "            \"data_logger\": \"cg_data/dcl27\",\n",
      "            \"deployment\": \"D00002\",\n",
      "            \"depth_m\": -7.0,\n",
      "            \"mfn\": false,\n",
      "            \"subtype\": \"1\"\n",
      "        },\n",
      "        \"metbk\": {\n",
      "            \"data_logger\": \"cg_data/dcl11\",\n",
      "            \"deployment\": \"D00002\",\n",
      "            \"depth_m\": 0.0,\n",
      "            \"mfn\": false,\n",
      "            \"subtype\": null\n",
      "        },\n",
      "        \"wavss\": {\n",
      "            \"data_logger\": \"cg_data/dcl12\",\n",
      "            \"deployment\": \"D00002\",\n",
      "            \"depth_m\": 0.0,\n",
      "            \"mfn\": false,\n",
      "            \"subtype\": null\n",
      "        }\n",
      "    }\n",
      "}\n",
      "{\n",
      "    \"CE09OSSM\": {\n",
      "        \"ctdbp1\": {\n",
      "            \"data_logger\": \"cg_data/dcl27\",\n",
      "            \"deployment\": \"D00003\",\n",
      "            \"depth_m\": -7.0,\n",
      "            \"mfn\": false,\n",
      "            \"subtype\": \"1\"\n",
      "        },\n",
      "        \"ctdbp2\": {\n",
      "            \"data_logger\": \"cg_data/dcl37\",\n",
      "            \"deployment\": \"D00001\",\n",
      "            \"depth_m\": -540.0,\n",
      "            \"mfn\": true,\n",
      "            \"subtype\": \"2\"\n",
      "        },\n",
      "        \"metbk\": {\n",
      "            \"data_logger\": \"cg_data/dcl11\",\n",
      "            \"deployment\": \"D00003\",\n",
      "            \"depth_m\": 0.0,\n",
      "            \"mfn\": false,\n",
      "            \"subtype\": null\n",
      "        },\n",
      "        \"wavss\": {\n",
      "            \"data_logger\": \"cg_data/dcl12\",\n",
      "            \"deployment\": \"D00003\",\n",
      "            \"depth_m\": 0.0,\n",
      "            \"mfn\": false,\n",
      "            \"subtype\": null\n",
      "        }\n",
      "    }\n",
      "}\n",
      "{\n",
      "    \"CE01ISSM\": {\n",
      "        \"ctdbp1\": {\n",
      "            \"data_logger\": \"dcl16\",\n",
      "            \"deployment\": \"D00005\",\n",
      "            \"depth_m\": -7.0,\n",
      "            \"mfn\": false,\n",
      "            \"subtype\": \"2\"\n",
      "        },\n",
      "        \"ctdbp2\": {\n",
      "            \"data_logger\": \"dcl37\",\n",
      "            \"deployment\": \"D00001\",\n",
      "            \"depth_m\": -25.0,\n",
      "            \"mfn\": true,\n",
      "            \"subtype\": \"2\"\n",
      "        }\n",
      "    }\n",
      "}\n",
      "{\n",
      "    \"CE02SHBP\": {\n",
      "        \"\": {\n",
      "            \"data_logger\": \"LJ01D\",\n",
      "            \"deployment\": \"\",\n",
      "            \"depth_m\": -80.0,\n",
      "            \"mfn\": false,\n",
      "            \"subtype\": null\n",
      "        }\n",
      "    }\n",
      "}\n",
      "{\n",
      "    \"CE04OSBP\": {\n",
      "        \"\": {\n",
      "            \"data_logger\": \"LJ01C\",\n",
      "            \"deployment\": \"\",\n",
      "            \"depth_m\": -580.0,\n",
      "            \"mfn\": false,\n",
      "            \"subtype\": null\n",
      "        }\n",
      "    }\n",
      "}\n",
      "{\n",
      "    \"CE06ISSM\": {\n",
      "        \"ctdbp1\": {\n",
      "            \"data_logger\": \"dcl16\",\n",
      "            \"deployment\": \"D00004\",\n",
      "            \"depth_m\": -7.0,\n",
      "            \"mfn\": false,\n",
      "            \"subtype\": \"2\"\n",
      "        },\n",
      "        \"ctdbp2\": {\n",
      "            \"data_logger\": \"dcl37\",\n",
      "            \"deployment\": \"D00004\",\n",
      "            \"depth_m\": -29.0,\n",
      "            \"mfn\": true,\n",
      "            \"subtype\": \"2\"\n",
      "        }\n",
      "    }\n",
      "}\n"
     ]
    }
   ],
   "source": [
    "def createJSON(df):\n",
    "    # Get Platforms\n",
    "    json_data = df[['platform','instrument','depth_m','mfn','deployment','data_logger','subtype']].reset_index(drop=True)\n",
    "    platforms = json_data['platform'].unique()\n",
    "    mainkey = dict()\n",
    "    prop = dict()\n",
    "    \n",
    "    # Gather Platform info together\n",
    "    plat = [json_data.loc[json_data['platform'] == p] for p in platforms]\n",
    "    \n",
    "    # Create JSON\n",
    "    for i in range(0, len(plat)):\n",
    "        instrum = dict()\n",
    "        mainkey = dict()\n",
    "        for j in range(0, len(plat[i]['platform'].values)):\n",
    "            platform_name = plat[i]['platform'].values[j]\n",
    "            instrument_name = plat[i]['instrument'].values[j]\n",
    "            depth_m = plat[i]['depth_m'].values[j]\n",
    "            mfn = plat[i]['mfn'].values[j]\n",
    "            deployment = plat[i]['deployment'].values[j]\n",
    "            data_logger = plat[i]['data_logger'].values[j]\n",
    "            subtype = plat[i]['subtype'].values[j]\n",
    "\n",
    "            # Check for mfn\n",
    "            if mfn != '':\n",
    "                mfn = True\n",
    "            else:\n",
    "                mfn = False\n",
    "            # Getting subtype\n",
    "            if subtype != '':\n",
    "                subtype = subtype.split('::')[1]\n",
    "            else:\n",
    "                subtype = None\n",
    "\n",
    "            prop['depth_m'] = float(depth_m)\n",
    "            prop['mfn'] = mfn\n",
    "            prop['deployment'] = deployment\n",
    "            prop['data_logger'] = data_logger\n",
    "            prop['subtype'] = subtype\n",
    "            instrum['{}'.format(instrument_name)] = prop\n",
    "            mainkey['{}'.format(platform_name)] = instrum\n",
    "            prop = dict()\n",
    "            \n",
    "        # prints the JSON structured dictionary\n",
    "        print json.dumps(mainkey, sort_keys=True, indent=4, separators=(',', ': '))\n",
    "        # Output to JSON file \n",
    "        fj = open(\"{}.json\".format(platform_name), 'w')\n",
    "        fj.write(json.dumps(mainkey, sort_keys=False, indent=4, separators=(',', ': ')))\n",
    "        fj.close()\n",
    "createJSON(df)"
   ]
  },
  {
   "cell_type": "code",
   "execution_count": null,
   "metadata": {
    "collapsed": true
   },
   "outputs": [],
   "source": []
  }
 ],
 "metadata": {
  "kernelspec": {
   "display_name": "Python 2",
   "language": "python",
   "name": "python2"
  },
  "language_info": {
   "codemirror_mode": {
    "name": "ipython",
    "version": 2
   },
   "file_extension": ".py",
   "mimetype": "text/x-python",
   "name": "python",
   "nbconvert_exporter": "python",
   "pygments_lexer": "ipython2",
   "version": "2.7.11"
  }
 },
 "nbformat": 4,
 "nbformat_minor": 0
}
