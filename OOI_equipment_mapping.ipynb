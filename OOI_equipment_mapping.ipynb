{
 "cells": [
  {
   "cell_type": "markdown",
   "metadata": {},
   "source": [
    "# OOI Equipment mapping\n",
    "- by Landung Setiawan\n",
    "- 5/31/2016\n",
    "- This notebook is for retrieving information from google sheets and then mapping to a JSON file, each instrument has its own JSON file configuration\n",
    "- The required libraries for this manipulation is *gspread*, *oauth2client*, and *pycrypto*"
   ]
  },
  {
   "cell_type": "code",
   "execution_count": 1,
   "metadata": {
    "collapsed": false
   },
   "outputs": [
    {
     "name": "stdout",
     "output_type": "stream",
     "text": [
      "oauth2client version : 1.5.2\n",
      "gspread version : 0.3.0\n"
     ]
    }
   ],
   "source": [
    "# Google Authentication Libraries\n",
    "import oauth2client, gspread\n",
    "import json\n",
    "\n",
    "# oauth2client version check and gspread\n",
    "oauth_ver = oauth2client.__version__\n",
    "gspread_ver = gspread.__version__\n",
    "\n",
    "print \"oauth2client version : {}\".format(oauth_ver) \n",
    "print \"gspread version : {}\".format(gspread_ver)"
   ]
  },
  {
   "cell_type": "code",
   "execution_count": 2,
   "metadata": {
    "collapsed": false
   },
   "outputs": [],
   "source": [
    "if oauth_ver < \"2.0.2\":\n",
    "    from oauth2client.client import SignedJwtAssertionCredentials\n",
    "\n",
    "    json_key = json.load(open('Nanoos-fcdeeb760f83.json'))\n",
    "    # Get scope for google sheets\n",
    "    # Gather all spreadsheets shared with the client_email: nanoos-2016@appspot.gserviceaccount.com\n",
    "    scope = ['https://spreadsheets.google.com/feeds']\n",
    "    \n",
    "    # Retrieve credentials from JSON key of service account\n",
    "    credentials = SignedJwtAssertionCredentials(json_key['client_email'], json_key['private_key'], scope)\n",
    "    \n",
    "    # Authorize gspread to connect to google sheets\n",
    "    gc = gspread.authorize(credentials)\n",
    "else:\n",
    "    from oauth2client.service_account import ServiceAccountCredentials\n",
    "    # Get scope for google sheets\n",
    "    # Gather all spreadsheets shared with the client_email: nanoos-2016@appspot.gserviceaccount.com\n",
    "    scope = ['https://spreadsheets.google.com/feeds']\n",
    "\n",
    "    # Retrieve credentials from JSON key of service account\n",
    "    credentials = ServiceAccountCredentials.from_json_keyfile_name('Nanoos-fcdeeb760f83.json', scope)\n",
    "\n",
    "    # Authorize gspread to connect to google sheets\n",
    "    gc = gspread.authorize(credentials)"
   ]
  },
  {
   "cell_type": "code",
   "execution_count": 3,
   "metadata": {
    "collapsed": false
   },
   "outputs": [
    {
     "name": "stdout",
     "output_type": "stream",
     "text": [
      "0 2016_Spring_NEMO\n",
      "1 ooi_equipment\n",
      "2 sensor_configurations_mappings\n",
      "3 GOA-ON_structering\n",
      "4 AGGI_Table\n",
      "5 WINTER 2014 SCHEDULE\n",
      "6 ocean_extents\n",
      "7 nanoos_asset_list_20160427T092836\n",
      "8 nanoos_asset_list_20160429T083128\n"
     ]
    }
   ],
   "source": [
    "# Get all spreadsheets available for NANOOS\n",
    "gsheets = gc.openall()\n",
    "# Get title of the spreadsheets\n",
    "for i in range(0,len(gsheets)):\n",
    "    print \"{0} {1}\".format(i,gsheets[i].title)"
   ]
  },
  {
   "cell_type": "code",
   "execution_count": 4,
   "metadata": {
    "collapsed": false
   },
   "outputs": [],
   "source": [
    "# Open sensor_configurations_mappings only\n",
    "sc = gc.open(\"sensor_configurations_mappings\")"
   ]
  },
  {
   "cell_type": "code",
   "execution_count": 5,
   "metadata": {
    "collapsed": false
   },
   "outputs": [
    {
     "data": {
      "text/plain": [
       "[<Worksheet 'instruments' id:o5yzc1h>, <Worksheet 'measurements' id:odfoenj>]"
      ]
     },
     "execution_count": 5,
     "metadata": {},
     "output_type": "execute_result"
    }
   ],
   "source": [
    "# Get all worksheets in a sheet\n",
    "wks = sc.worksheets()\n",
    "wks"
   ]
  },
  {
   "cell_type": "code",
   "execution_count": 6,
   "metadata": {
    "collapsed": false
   },
   "outputs": [
    {
     "name": "stdout",
     "output_type": "stream",
     "text": [
      "<Worksheet 'instruments' id:o5yzc1h> <Worksheet 'measurements' id:odfoenj>\n"
     ]
    }
   ],
   "source": [
    "s1 = sc.get_worksheet(0)\n",
    "s2 = sc.get_worksheet(1)\n",
    "print s1, s2"
   ]
  },
  {
   "cell_type": "markdown",
   "metadata": {},
   "source": [
    "## Parsing data to a pandas dataframe\n",
    "- Now that connection has been established, data is parsed to be viewed"
   ]
  },
  {
   "cell_type": "code",
   "execution_count": 7,
   "metadata": {
    "collapsed": false,
    "scrolled": true
   },
   "outputs": [
    {
     "name": "stderr",
     "output_type": "stream",
     "text": [
      "/home/lsetiawan/anaconda2/envs/OOI/lib/python2.7/site-packages/matplotlib/font_manager.py:273: UserWarning: Matplotlib is building the font cache using fc-list. This may take a moment.\n",
      "  warnings.warn('Matplotlib is building the font cache using fc-list. This may take a moment.')\n"
     ]
    },
    {
     "name": "stdout",
     "output_type": "stream",
     "text": [
      "pandas version: 0.18.1\n",
      "numpy version: 1.10.0\n"
     ]
    }
   ],
   "source": [
    "# Import pandas and numpy to make data easier to view\n",
    "%matplotlib inline\n",
    "import pandas as pd\n",
    "import numpy as np\n",
    "import matplotlib\n",
    "import matplotlib.pyplot as plt\n",
    "print \"pandas version: {}\".format(pd.__version__)\n",
    "print \"numpy version: {}\".format(np.__version__)"
   ]
  },
  {
   "cell_type": "code",
   "execution_count": 8,
   "metadata": {
    "collapsed": false
   },
   "outputs": [
    {
     "data": {
      "text/plain": [
       "[['instrument',\n",
       "  'data_products',\n",
       "  'relative_depth_m',\n",
       "  'OOI_units',\n",
       "  'measurement_label'],\n",
       " ['metbk', 'air_temperature', '4.1', 'degC', 'A1_AirTemp'],\n",
       " ['metbk', 'barometric_pressure', '4.3', 'mbar', 'A1_BarPress'],\n",
       " ['metbk', 'relative_humidity', '4.1', '%', 'A1_RelHumidity'],\n",
       " ['metbk', 'eastward_wind_velocity', '4.7', 'm/s', 'A1_WindSpeed'],\n",
       " ['metbk', 'northward_wind_velocity', '4.7', 'm/s', 'A1_WindSpeed'],\n",
       " ['metbk', 'longwave_irradiance', '4.6', 'W/m2', 'A1_SolarRad'],\n",
       " ['metbk', 'shortwave_irradiance', '4.6', 'W/m2', 'A1_SolarRad'],\n",
       " ['metbk', 'precipitation_level', '4.1', 'mm', 'A2_Rain'],\n",
       " ['metbk', 'sea_surface_conductivity', '-1.0', 'S/m', 'H2_Conductiv'],\n",
       " ['metbk', 'sea_surface_temperature', '-1.0', 'degC', 'H1_WaterTemp'],\n",
       " ['ctdbp', 'temperature', '0', 'degC', 'H1_WaterTemp'],\n",
       " ['ctdbp', 'conductivity', '0', 'S/m', 'H2_Conductiv'],\n",
       " ['ctdbp', 'pressure', '0', 'Pa', 'H1_Pressure'],\n",
       " ['ctdbp', 'oxygen_concentration', '0', '', ''],\n",
       " ['wavss', 'peak_period_read', '0', 's', ''],\n",
       " ['wavss', 'average_tenth_height', '0', 'm', ''],\n",
       " ['wavss', 'significant_wave_height', '0', 'm', ''],\n",
       " ['wavss', 'mean_spectral_period', '0', 's', ''],\n",
       " ['wavss', 'spectral_wave_height', '0', 'm', ''],\n",
       " ['wavss', 'mean_directional_spread', '0', 'deg', ''],\n",
       " ['wavss', 'peak_period', '0', 's', ''],\n",
       " ['wavss', 'significant_wave_period', '0', 's', 'H1_DomWavePrd'],\n",
       " ['wavss', 'mean_wave_direction', '0', 'deg', 'H1_WaveMeanDir'],\n",
       " ['wavss', 'average_tenth_period', '0', 's', ''],\n",
       " ['wavss', 'average_wave_height', '0', 'm', 'H1_WaveHght'],\n",
       " ['wavss', 'average_wave_period', '0', 's', ''],\n",
       " ['wavss', 'num_zero_crossings', '0', '', ''],\n",
       " ['wavss', 'maximum_wave_height', '0', 'm', '']]"
      ]
     },
     "execution_count": 8,
     "metadata": {},
     "output_type": "execute_result"
    }
   ],
   "source": [
    "# Getting all the values of sheet1\n",
    "array = s2.get_all_values()\n",
    "array"
   ]
  },
  {
   "cell_type": "code",
   "execution_count": 9,
   "metadata": {
    "collapsed": false
   },
   "outputs": [
    {
     "name": "stderr",
     "output_type": "stream",
     "text": [
      "/home/lsetiawan/anaconda2/envs/OOI/lib/python2.7/site-packages/ipykernel/__main__.py:5: FutureWarning: convert_objects is deprecated.  Use the data-type specific converters pd.to_datetime, pd.to_timedelta and pd.to_numeric.\n"
     ]
    },
    {
     "data": {
      "text/html": [
       "<div>\n",
       "<table border=\"1\" class=\"dataframe\">\n",
       "  <thead>\n",
       "    <tr style=\"text-align: right;\">\n",
       "      <th></th>\n",
       "      <th>instrument</th>\n",
       "      <th>data_products</th>\n",
       "      <th>relative_depth_m</th>\n",
       "      <th>OOI_units</th>\n",
       "      <th>measurement_label</th>\n",
       "    </tr>\n",
       "  </thead>\n",
       "  <tbody>\n",
       "    <tr>\n",
       "      <th>1</th>\n",
       "      <td>metbk</td>\n",
       "      <td>air_temperature</td>\n",
       "      <td>4.1</td>\n",
       "      <td>degC</td>\n",
       "      <td>A1_AirTemp</td>\n",
       "    </tr>\n",
       "    <tr>\n",
       "      <th>2</th>\n",
       "      <td>metbk</td>\n",
       "      <td>barometric_pressure</td>\n",
       "      <td>4.3</td>\n",
       "      <td>mbar</td>\n",
       "      <td>A1_BarPress</td>\n",
       "    </tr>\n",
       "    <tr>\n",
       "      <th>3</th>\n",
       "      <td>metbk</td>\n",
       "      <td>relative_humidity</td>\n",
       "      <td>4.1</td>\n",
       "      <td>%</td>\n",
       "      <td>A1_RelHumidity</td>\n",
       "    </tr>\n",
       "    <tr>\n",
       "      <th>4</th>\n",
       "      <td>metbk</td>\n",
       "      <td>eastward_wind_velocity</td>\n",
       "      <td>4.7</td>\n",
       "      <td>m/s</td>\n",
       "      <td>A1_WindSpeed</td>\n",
       "    </tr>\n",
       "    <tr>\n",
       "      <th>5</th>\n",
       "      <td>metbk</td>\n",
       "      <td>northward_wind_velocity</td>\n",
       "      <td>4.7</td>\n",
       "      <td>m/s</td>\n",
       "      <td>A1_WindSpeed</td>\n",
       "    </tr>\n",
       "    <tr>\n",
       "      <th>6</th>\n",
       "      <td>metbk</td>\n",
       "      <td>longwave_irradiance</td>\n",
       "      <td>4.6</td>\n",
       "      <td>W/m2</td>\n",
       "      <td>A1_SolarRad</td>\n",
       "    </tr>\n",
       "    <tr>\n",
       "      <th>7</th>\n",
       "      <td>metbk</td>\n",
       "      <td>shortwave_irradiance</td>\n",
       "      <td>4.6</td>\n",
       "      <td>W/m2</td>\n",
       "      <td>A1_SolarRad</td>\n",
       "    </tr>\n",
       "    <tr>\n",
       "      <th>8</th>\n",
       "      <td>metbk</td>\n",
       "      <td>precipitation_level</td>\n",
       "      <td>4.1</td>\n",
       "      <td>mm</td>\n",
       "      <td>A2_Rain</td>\n",
       "    </tr>\n",
       "    <tr>\n",
       "      <th>9</th>\n",
       "      <td>metbk</td>\n",
       "      <td>sea_surface_conductivity</td>\n",
       "      <td>-1.0</td>\n",
       "      <td>S/m</td>\n",
       "      <td>H2_Conductiv</td>\n",
       "    </tr>\n",
       "    <tr>\n",
       "      <th>10</th>\n",
       "      <td>metbk</td>\n",
       "      <td>sea_surface_temperature</td>\n",
       "      <td>-1.0</td>\n",
       "      <td>degC</td>\n",
       "      <td>H1_WaterTemp</td>\n",
       "    </tr>\n",
       "    <tr>\n",
       "      <th>11</th>\n",
       "      <td>ctdbp</td>\n",
       "      <td>temperature</td>\n",
       "      <td>0.0</td>\n",
       "      <td>degC</td>\n",
       "      <td>H1_WaterTemp</td>\n",
       "    </tr>\n",
       "    <tr>\n",
       "      <th>12</th>\n",
       "      <td>ctdbp</td>\n",
       "      <td>conductivity</td>\n",
       "      <td>0.0</td>\n",
       "      <td>S/m</td>\n",
       "      <td>H2_Conductiv</td>\n",
       "    </tr>\n",
       "    <tr>\n",
       "      <th>13</th>\n",
       "      <td>ctdbp</td>\n",
       "      <td>pressure</td>\n",
       "      <td>0.0</td>\n",
       "      <td>Pa</td>\n",
       "      <td>H1_Pressure</td>\n",
       "    </tr>\n",
       "    <tr>\n",
       "      <th>14</th>\n",
       "      <td>ctdbp</td>\n",
       "      <td>oxygen_concentration</td>\n",
       "      <td>0.0</td>\n",
       "      <td></td>\n",
       "      <td></td>\n",
       "    </tr>\n",
       "    <tr>\n",
       "      <th>15</th>\n",
       "      <td>wavss</td>\n",
       "      <td>peak_period_read</td>\n",
       "      <td>0.0</td>\n",
       "      <td>s</td>\n",
       "      <td></td>\n",
       "    </tr>\n",
       "    <tr>\n",
       "      <th>16</th>\n",
       "      <td>wavss</td>\n",
       "      <td>average_tenth_height</td>\n",
       "      <td>0.0</td>\n",
       "      <td>m</td>\n",
       "      <td></td>\n",
       "    </tr>\n",
       "    <tr>\n",
       "      <th>17</th>\n",
       "      <td>wavss</td>\n",
       "      <td>significant_wave_height</td>\n",
       "      <td>0.0</td>\n",
       "      <td>m</td>\n",
       "      <td></td>\n",
       "    </tr>\n",
       "    <tr>\n",
       "      <th>18</th>\n",
       "      <td>wavss</td>\n",
       "      <td>mean_spectral_period</td>\n",
       "      <td>0.0</td>\n",
       "      <td>s</td>\n",
       "      <td></td>\n",
       "    </tr>\n",
       "    <tr>\n",
       "      <th>19</th>\n",
       "      <td>wavss</td>\n",
       "      <td>spectral_wave_height</td>\n",
       "      <td>0.0</td>\n",
       "      <td>m</td>\n",
       "      <td></td>\n",
       "    </tr>\n",
       "    <tr>\n",
       "      <th>20</th>\n",
       "      <td>wavss</td>\n",
       "      <td>mean_directional_spread</td>\n",
       "      <td>0.0</td>\n",
       "      <td>deg</td>\n",
       "      <td></td>\n",
       "    </tr>\n",
       "    <tr>\n",
       "      <th>21</th>\n",
       "      <td>wavss</td>\n",
       "      <td>peak_period</td>\n",
       "      <td>0.0</td>\n",
       "      <td>s</td>\n",
       "      <td></td>\n",
       "    </tr>\n",
       "    <tr>\n",
       "      <th>22</th>\n",
       "      <td>wavss</td>\n",
       "      <td>significant_wave_period</td>\n",
       "      <td>0.0</td>\n",
       "      <td>s</td>\n",
       "      <td>H1_DomWavePrd</td>\n",
       "    </tr>\n",
       "    <tr>\n",
       "      <th>23</th>\n",
       "      <td>wavss</td>\n",
       "      <td>mean_wave_direction</td>\n",
       "      <td>0.0</td>\n",
       "      <td>deg</td>\n",
       "      <td>H1_WaveMeanDir</td>\n",
       "    </tr>\n",
       "    <tr>\n",
       "      <th>24</th>\n",
       "      <td>wavss</td>\n",
       "      <td>average_tenth_period</td>\n",
       "      <td>0.0</td>\n",
       "      <td>s</td>\n",
       "      <td></td>\n",
       "    </tr>\n",
       "    <tr>\n",
       "      <th>25</th>\n",
       "      <td>wavss</td>\n",
       "      <td>average_wave_height</td>\n",
       "      <td>0.0</td>\n",
       "      <td>m</td>\n",
       "      <td>H1_WaveHght</td>\n",
       "    </tr>\n",
       "    <tr>\n",
       "      <th>26</th>\n",
       "      <td>wavss</td>\n",
       "      <td>average_wave_period</td>\n",
       "      <td>0.0</td>\n",
       "      <td>s</td>\n",
       "      <td></td>\n",
       "    </tr>\n",
       "    <tr>\n",
       "      <th>27</th>\n",
       "      <td>wavss</td>\n",
       "      <td>num_zero_crossings</td>\n",
       "      <td>0.0</td>\n",
       "      <td></td>\n",
       "      <td></td>\n",
       "    </tr>\n",
       "    <tr>\n",
       "      <th>28</th>\n",
       "      <td>wavss</td>\n",
       "      <td>maximum_wave_height</td>\n",
       "      <td>0.0</td>\n",
       "      <td>m</td>\n",
       "      <td></td>\n",
       "    </tr>\n",
       "  </tbody>\n",
       "</table>\n",
       "</div>"
      ],
      "text/plain": [
       "   instrument             data_products  relative_depth_m OOI_units  \\\n",
       "1       metbk           air_temperature               4.1      degC   \n",
       "2       metbk       barometric_pressure               4.3      mbar   \n",
       "3       metbk         relative_humidity               4.1         %   \n",
       "4       metbk    eastward_wind_velocity               4.7       m/s   \n",
       "5       metbk   northward_wind_velocity               4.7       m/s   \n",
       "6       metbk       longwave_irradiance               4.6      W/m2   \n",
       "7       metbk      shortwave_irradiance               4.6      W/m2   \n",
       "8       metbk       precipitation_level               4.1        mm   \n",
       "9       metbk  sea_surface_conductivity              -1.0       S/m   \n",
       "10      metbk   sea_surface_temperature              -1.0      degC   \n",
       "11      ctdbp               temperature               0.0      degC   \n",
       "12      ctdbp              conductivity               0.0       S/m   \n",
       "13      ctdbp                  pressure               0.0        Pa   \n",
       "14      ctdbp      oxygen_concentration               0.0             \n",
       "15      wavss          peak_period_read               0.0         s   \n",
       "16      wavss      average_tenth_height               0.0         m   \n",
       "17      wavss   significant_wave_height               0.0         m   \n",
       "18      wavss      mean_spectral_period               0.0         s   \n",
       "19      wavss      spectral_wave_height               0.0         m   \n",
       "20      wavss   mean_directional_spread               0.0       deg   \n",
       "21      wavss               peak_period               0.0         s   \n",
       "22      wavss   significant_wave_period               0.0         s   \n",
       "23      wavss       mean_wave_direction               0.0       deg   \n",
       "24      wavss      average_tenth_period               0.0         s   \n",
       "25      wavss       average_wave_height               0.0         m   \n",
       "26      wavss       average_wave_period               0.0         s   \n",
       "27      wavss        num_zero_crossings               0.0             \n",
       "28      wavss       maximum_wave_height               0.0         m   \n",
       "\n",
       "   measurement_label  \n",
       "1         A1_AirTemp  \n",
       "2        A1_BarPress  \n",
       "3     A1_RelHumidity  \n",
       "4       A1_WindSpeed  \n",
       "5       A1_WindSpeed  \n",
       "6        A1_SolarRad  \n",
       "7        A1_SolarRad  \n",
       "8            A2_Rain  \n",
       "9       H2_Conductiv  \n",
       "10      H1_WaterTemp  \n",
       "11      H1_WaterTemp  \n",
       "12      H2_Conductiv  \n",
       "13       H1_Pressure  \n",
       "14                    \n",
       "15                    \n",
       "16                    \n",
       "17                    \n",
       "18                    \n",
       "19                    \n",
       "20                    \n",
       "21                    \n",
       "22     H1_DomWavePrd  \n",
       "23    H1_WaveMeanDir  \n",
       "24                    \n",
       "25       H1_WaveHght  \n",
       "26                    \n",
       "27                    \n",
       "28                    "
      ]
     },
     "execution_count": 9,
     "metadata": {},
     "output_type": "execute_result"
    }
   ],
   "source": [
    "# Convert data into pandas dataframe\n",
    "df = pd.DataFrame(array)\n",
    "df.columns = array[0]\n",
    "df.drop(df.index[0], inplace=True)\n",
    "df = df.convert_objects(convert_numeric=True)\n",
    "df"
   ]
  },
  {
   "cell_type": "code",
   "execution_count": 10,
   "metadata": {
    "collapsed": false
   },
   "outputs": [],
   "source": [
    "# retrieve only metbk instrument\n",
    "metbk = df.loc[df['instrument'] == 'metbk']"
   ]
  },
  {
   "cell_type": "code",
   "execution_count": 11,
   "metadata": {
    "collapsed": false
   },
   "outputs": [
    {
     "data": {
      "text/html": [
       "<div>\n",
       "<table border=\"1\" class=\"dataframe\">\n",
       "  <thead>\n",
       "    <tr style=\"text-align: right;\">\n",
       "      <th></th>\n",
       "      <th>instrument</th>\n",
       "      <th>data_products</th>\n",
       "      <th>relative_depth_m</th>\n",
       "      <th>OOI_units</th>\n",
       "      <th>measurement_label</th>\n",
       "    </tr>\n",
       "  </thead>\n",
       "  <tbody>\n",
       "    <tr>\n",
       "      <th>1</th>\n",
       "      <td>metbk</td>\n",
       "      <td>air_temperature</td>\n",
       "      <td>4.1</td>\n",
       "      <td>degC</td>\n",
       "      <td>A1_AirTemp</td>\n",
       "    </tr>\n",
       "    <tr>\n",
       "      <th>2</th>\n",
       "      <td>metbk</td>\n",
       "      <td>barometric_pressure</td>\n",
       "      <td>4.3</td>\n",
       "      <td>mbar</td>\n",
       "      <td>A1_BarPress</td>\n",
       "    </tr>\n",
       "    <tr>\n",
       "      <th>3</th>\n",
       "      <td>metbk</td>\n",
       "      <td>relative_humidity</td>\n",
       "      <td>4.1</td>\n",
       "      <td>%</td>\n",
       "      <td>A1_RelHumidity</td>\n",
       "    </tr>\n",
       "    <tr>\n",
       "      <th>4</th>\n",
       "      <td>metbk</td>\n",
       "      <td>eastward_wind_velocity</td>\n",
       "      <td>4.7</td>\n",
       "      <td>m/s</td>\n",
       "      <td>A1_WindSpeed</td>\n",
       "    </tr>\n",
       "    <tr>\n",
       "      <th>5</th>\n",
       "      <td>metbk</td>\n",
       "      <td>northward_wind_velocity</td>\n",
       "      <td>4.7</td>\n",
       "      <td>m/s</td>\n",
       "      <td>A1_WindSpeed</td>\n",
       "    </tr>\n",
       "    <tr>\n",
       "      <th>6</th>\n",
       "      <td>metbk</td>\n",
       "      <td>longwave_irradiance</td>\n",
       "      <td>4.6</td>\n",
       "      <td>W/m2</td>\n",
       "      <td>A1_SolarRad</td>\n",
       "    </tr>\n",
       "    <tr>\n",
       "      <th>7</th>\n",
       "      <td>metbk</td>\n",
       "      <td>shortwave_irradiance</td>\n",
       "      <td>4.6</td>\n",
       "      <td>W/m2</td>\n",
       "      <td>A1_SolarRad</td>\n",
       "    </tr>\n",
       "    <tr>\n",
       "      <th>8</th>\n",
       "      <td>metbk</td>\n",
       "      <td>precipitation_level</td>\n",
       "      <td>4.1</td>\n",
       "      <td>mm</td>\n",
       "      <td>A2_Rain</td>\n",
       "    </tr>\n",
       "    <tr>\n",
       "      <th>9</th>\n",
       "      <td>metbk</td>\n",
       "      <td>sea_surface_conductivity</td>\n",
       "      <td>-1.0</td>\n",
       "      <td>S/m</td>\n",
       "      <td>H2_Conductiv</td>\n",
       "    </tr>\n",
       "    <tr>\n",
       "      <th>10</th>\n",
       "      <td>metbk</td>\n",
       "      <td>sea_surface_temperature</td>\n",
       "      <td>-1.0</td>\n",
       "      <td>degC</td>\n",
       "      <td>H1_WaterTemp</td>\n",
       "    </tr>\n",
       "  </tbody>\n",
       "</table>\n",
       "</div>"
      ],
      "text/plain": [
       "   instrument             data_products  relative_depth_m OOI_units  \\\n",
       "1       metbk           air_temperature               4.1      degC   \n",
       "2       metbk       barometric_pressure               4.3      mbar   \n",
       "3       metbk         relative_humidity               4.1         %   \n",
       "4       metbk    eastward_wind_velocity               4.7       m/s   \n",
       "5       metbk   northward_wind_velocity               4.7       m/s   \n",
       "6       metbk       longwave_irradiance               4.6      W/m2   \n",
       "7       metbk      shortwave_irradiance               4.6      W/m2   \n",
       "8       metbk       precipitation_level               4.1        mm   \n",
       "9       metbk  sea_surface_conductivity              -1.0       S/m   \n",
       "10      metbk   sea_surface_temperature              -1.0      degC   \n",
       "\n",
       "   measurement_label  \n",
       "1         A1_AirTemp  \n",
       "2        A1_BarPress  \n",
       "3     A1_RelHumidity  \n",
       "4       A1_WindSpeed  \n",
       "5       A1_WindSpeed  \n",
       "6        A1_SolarRad  \n",
       "7        A1_SolarRad  \n",
       "8            A2_Rain  \n",
       "9       H2_Conductiv  \n",
       "10      H1_WaterTemp  "
      ]
     },
     "execution_count": 11,
     "metadata": {},
     "output_type": "execute_result"
    }
   ],
   "source": [
    "metbk"
   ]
  },
  {
   "cell_type": "code",
   "execution_count": 12,
   "metadata": {
    "collapsed": false
   },
   "outputs": [
    {
     "name": "stdout",
     "output_type": "stream",
     "text": [
      "['metbk' 'air_temperature' 4.0999999999999996 'degC' 'A1_AirTemp']\n"
     ]
    }
   ],
   "source": [
    "# get values of the first row as a list\n",
    "print metbk.iloc[0].values"
   ]
  },
  {
   "cell_type": "code",
   "execution_count": 13,
   "metadata": {
    "collapsed": false
   },
   "outputs": [
    {
     "data": {
      "text/plain": [
       "10"
      ]
     },
     "execution_count": 13,
     "metadata": {},
     "output_type": "execute_result"
    }
   ],
   "source": [
    "len(metbk)"
   ]
  },
  {
   "cell_type": "code",
   "execution_count": 14,
   "metadata": {
    "collapsed": true
   },
   "outputs": [],
   "source": [
    "def create_JSON(instrument,data_products,relative_depth,OOI_units,measurement_label):\n",
    "    # Create main JSON keys\n",
    "    mainkey = dict()\n",
    "    if instrument != \"\":\n",
    "        mainkey[\"instrument\"] = instrument\n",
    "    if data_products != \"\":\n",
    "        mainkey[\"data_products\"] = data_products\n",
    "    if relative_depth != \"\":\n",
    "        mainkey[\"relative_depth_m\"] = relative_depth\n",
    "    if OOI_units != \"\":\n",
    "        mainkey[\"OOI_units\"] = OOI_units\n",
    "    if measurement_label != \"\":\n",
    "        mainkey[\"measurement_label\"] = measurement_label\n",
    "        \n",
    "    return mainkey"
   ]
  },
  {
   "cell_type": "code",
   "execution_count": 15,
   "metadata": {
    "collapsed": false
   },
   "outputs": [
    {
     "name": "stdout",
     "output_type": "stream",
     "text": [
      "['metbk' 'air_temperature' 4.0999999999999996 'degC' 'A1_AirTemp']\n",
      "['metbk' 'barometric_pressure' 4.2999999999999998 'mbar' 'A1_BarPress']\n",
      "['metbk' 'relative_humidity' 4.0999999999999996 '%' 'A1_RelHumidity']\n",
      "['metbk' 'eastward_wind_velocity' 4.7000000000000002 'm/s' 'A1_WindSpeed']\n",
      "['metbk' 'northward_wind_velocity' 4.7000000000000002 'm/s' 'A1_WindSpeed']\n",
      "['metbk' 'longwave_irradiance' 4.5999999999999996 'W/m2' 'A1_SolarRad']\n",
      "['metbk' 'shortwave_irradiance' 4.5999999999999996 'W/m2' 'A1_SolarRad']\n",
      "['metbk' 'precipitation_level' 4.0999999999999996 'mm' 'A2_Rain']\n",
      "['metbk' 'sea_surface_conductivity' -1.0 'S/m' 'H2_Conductiv']\n",
      "['metbk' 'sea_surface_temperature' -1.0 'degC' 'H1_WaterTemp']\n"
     ]
    }
   ],
   "source": [
    "# get list of dictionary for each of the data products\n",
    "dict_list = []\n",
    "for i in range(0,len(metbk)):\n",
    "    print metbk.iloc[i].values\n",
    "    metbk_json = create_JSON(metbk.iloc[i].values[0],metbk.iloc[i].values[1],\n",
    "                             metbk.iloc[i].values[2],metbk.iloc[i].values[3],metbk.iloc[i].values[4])\n",
    "    dict_list.append(metbk_json)"
   ]
  },
  {
   "cell_type": "code",
   "execution_count": 16,
   "metadata": {
    "collapsed": false
   },
   "outputs": [
    {
     "name": "stdout",
     "output_type": "stream",
     "text": [
      "[{'instrument': 'metbk', 'data_products': 'air_temperature', 'measurement_label': 'A1_AirTemp', 'OOI_units': 'degC', 'relative_depth_m': 4.0999999999999996}, {'instrument': 'metbk', 'data_products': 'barometric_pressure', 'measurement_label': 'A1_BarPress', 'OOI_units': 'mbar', 'relative_depth_m': 4.2999999999999998}, {'instrument': 'metbk', 'data_products': 'relative_humidity', 'measurement_label': 'A1_RelHumidity', 'OOI_units': '%', 'relative_depth_m': 4.0999999999999996}, {'instrument': 'metbk', 'data_products': 'eastward_wind_velocity', 'measurement_label': 'A1_WindSpeed', 'OOI_units': 'm/s', 'relative_depth_m': 4.7000000000000002}, {'instrument': 'metbk', 'data_products': 'northward_wind_velocity', 'measurement_label': 'A1_WindSpeed', 'OOI_units': 'm/s', 'relative_depth_m': 4.7000000000000002}, {'instrument': 'metbk', 'data_products': 'longwave_irradiance', 'measurement_label': 'A1_SolarRad', 'OOI_units': 'W/m2', 'relative_depth_m': 4.5999999999999996}, {'instrument': 'metbk', 'data_products': 'shortwave_irradiance', 'measurement_label': 'A1_SolarRad', 'OOI_units': 'W/m2', 'relative_depth_m': 4.5999999999999996}, {'instrument': 'metbk', 'data_products': 'precipitation_level', 'measurement_label': 'A2_Rain', 'OOI_units': 'mm', 'relative_depth_m': 4.0999999999999996}, {'instrument': 'metbk', 'data_products': 'sea_surface_conductivity', 'measurement_label': 'H2_Conductiv', 'OOI_units': 'S/m', 'relative_depth_m': -1.0}, {'instrument': 'metbk', 'data_products': 'sea_surface_temperature', 'measurement_label': 'H1_WaterTemp', 'OOI_units': 'degC', 'relative_depth_m': -1.0}]\n"
     ]
    }
   ],
   "source": [
    "# prints the dictionary for JSON\n",
    "print dict_list"
   ]
  },
  {
   "cell_type": "code",
   "execution_count": 17,
   "metadata": {
    "collapsed": false
   },
   "outputs": [
    {
     "name": "stdout",
     "output_type": "stream",
     "text": [
      "[\n",
      "    {\n",
      "        \"instrument\": \"metbk\",\n",
      "        \"data_products\": \"air_temperature\",\n",
      "        \"measurement_label\": \"A1_AirTemp\",\n",
      "        \"OOI_units\": \"degC\",\n",
      "        \"relative_depth_m\": 4.0999999999999996\n",
      "    },\n",
      "    {\n",
      "        \"instrument\": \"metbk\",\n",
      "        \"data_products\": \"barometric_pressure\",\n",
      "        \"measurement_label\": \"A1_BarPress\",\n",
      "        \"OOI_units\": \"mbar\",\n",
      "        \"relative_depth_m\": 4.2999999999999998\n",
      "    },\n",
      "    {\n",
      "        \"instrument\": \"metbk\",\n",
      "        \"data_products\": \"relative_humidity\",\n",
      "        \"measurement_label\": \"A1_RelHumidity\",\n",
      "        \"OOI_units\": \"%\",\n",
      "        \"relative_depth_m\": 4.0999999999999996\n",
      "    },\n",
      "    {\n",
      "        \"instrument\": \"metbk\",\n",
      "        \"data_products\": \"eastward_wind_velocity\",\n",
      "        \"measurement_label\": \"A1_WindSpeed\",\n",
      "        \"OOI_units\": \"m/s\",\n",
      "        \"relative_depth_m\": 4.7000000000000002\n",
      "    },\n",
      "    {\n",
      "        \"instrument\": \"metbk\",\n",
      "        \"data_products\": \"northward_wind_velocity\",\n",
      "        \"measurement_label\": \"A1_WindSpeed\",\n",
      "        \"OOI_units\": \"m/s\",\n",
      "        \"relative_depth_m\": 4.7000000000000002\n",
      "    },\n",
      "    {\n",
      "        \"instrument\": \"metbk\",\n",
      "        \"data_products\": \"longwave_irradiance\",\n",
      "        \"measurement_label\": \"A1_SolarRad\",\n",
      "        \"OOI_units\": \"W/m2\",\n",
      "        \"relative_depth_m\": 4.5999999999999996\n",
      "    },\n",
      "    {\n",
      "        \"instrument\": \"metbk\",\n",
      "        \"data_products\": \"shortwave_irradiance\",\n",
      "        \"measurement_label\": \"A1_SolarRad\",\n",
      "        \"OOI_units\": \"W/m2\",\n",
      "        \"relative_depth_m\": 4.5999999999999996\n",
      "    },\n",
      "    {\n",
      "        \"instrument\": \"metbk\",\n",
      "        \"data_products\": \"precipitation_level\",\n",
      "        \"measurement_label\": \"A2_Rain\",\n",
      "        \"OOI_units\": \"mm\",\n",
      "        \"relative_depth_m\": 4.0999999999999996\n",
      "    },\n",
      "    {\n",
      "        \"instrument\": \"metbk\",\n",
      "        \"data_products\": \"sea_surface_conductivity\",\n",
      "        \"measurement_label\": \"H2_Conductiv\",\n",
      "        \"OOI_units\": \"S/m\",\n",
      "        \"relative_depth_m\": -1.0\n",
      "    },\n",
      "    {\n",
      "        \"instrument\": \"metbk\",\n",
      "        \"data_products\": \"sea_surface_temperature\",\n",
      "        \"measurement_label\": \"H1_WaterTemp\",\n",
      "        \"OOI_units\": \"degC\",\n",
      "        \"relative_depth_m\": -1.0\n",
      "    }\n",
      "]\n"
     ]
    }
   ],
   "source": [
    "# prints the JSON structured dictionary\n",
    "print json.dumps(dict_list, sort_keys=False, indent=4, separators=(',', ': '))"
   ]
  },
  {
   "cell_type": "code",
   "execution_count": 18,
   "metadata": {
    "collapsed": false
   },
   "outputs": [],
   "source": [
    "# Output to JSON file called metbk.json\n",
    "fj = open(\"metbk.json\", 'w')\n",
    "fj.write(json.dumps(dict_list, sort_keys=False, indent=4, separators=(',', ': ')))\n",
    "fj.close()"
   ]
  },
  {
   "cell_type": "code",
   "execution_count": 19,
   "metadata": {
    "collapsed": false
   },
   "outputs": [
    {
     "data": {
      "text/html": [
       "<div>\n",
       "<table border=\"1\" class=\"dataframe\">\n",
       "  <thead>\n",
       "    <tr style=\"text-align: right;\">\n",
       "      <th></th>\n",
       "      <th>instrument</th>\n",
       "      <th>data_products</th>\n",
       "      <th>relative_depth_m</th>\n",
       "      <th>OOI_units</th>\n",
       "      <th>measurement_label</th>\n",
       "    </tr>\n",
       "  </thead>\n",
       "  <tbody>\n",
       "    <tr>\n",
       "      <th>15</th>\n",
       "      <td>wavss</td>\n",
       "      <td>peak_period_read</td>\n",
       "      <td>0.0</td>\n",
       "      <td>s</td>\n",
       "      <td></td>\n",
       "    </tr>\n",
       "    <tr>\n",
       "      <th>16</th>\n",
       "      <td>wavss</td>\n",
       "      <td>average_tenth_height</td>\n",
       "      <td>0.0</td>\n",
       "      <td>m</td>\n",
       "      <td></td>\n",
       "    </tr>\n",
       "    <tr>\n",
       "      <th>17</th>\n",
       "      <td>wavss</td>\n",
       "      <td>significant_wave_height</td>\n",
       "      <td>0.0</td>\n",
       "      <td>m</td>\n",
       "      <td></td>\n",
       "    </tr>\n",
       "    <tr>\n",
       "      <th>18</th>\n",
       "      <td>wavss</td>\n",
       "      <td>mean_spectral_period</td>\n",
       "      <td>0.0</td>\n",
       "      <td>s</td>\n",
       "      <td></td>\n",
       "    </tr>\n",
       "    <tr>\n",
       "      <th>19</th>\n",
       "      <td>wavss</td>\n",
       "      <td>spectral_wave_height</td>\n",
       "      <td>0.0</td>\n",
       "      <td>m</td>\n",
       "      <td></td>\n",
       "    </tr>\n",
       "    <tr>\n",
       "      <th>20</th>\n",
       "      <td>wavss</td>\n",
       "      <td>mean_directional_spread</td>\n",
       "      <td>0.0</td>\n",
       "      <td>deg</td>\n",
       "      <td></td>\n",
       "    </tr>\n",
       "    <tr>\n",
       "      <th>21</th>\n",
       "      <td>wavss</td>\n",
       "      <td>peak_period</td>\n",
       "      <td>0.0</td>\n",
       "      <td>s</td>\n",
       "      <td></td>\n",
       "    </tr>\n",
       "    <tr>\n",
       "      <th>22</th>\n",
       "      <td>wavss</td>\n",
       "      <td>significant_wave_period</td>\n",
       "      <td>0.0</td>\n",
       "      <td>s</td>\n",
       "      <td>H1_DomWavePrd</td>\n",
       "    </tr>\n",
       "    <tr>\n",
       "      <th>23</th>\n",
       "      <td>wavss</td>\n",
       "      <td>mean_wave_direction</td>\n",
       "      <td>0.0</td>\n",
       "      <td>deg</td>\n",
       "      <td>H1_WaveMeanDir</td>\n",
       "    </tr>\n",
       "    <tr>\n",
       "      <th>24</th>\n",
       "      <td>wavss</td>\n",
       "      <td>average_tenth_period</td>\n",
       "      <td>0.0</td>\n",
       "      <td>s</td>\n",
       "      <td></td>\n",
       "    </tr>\n",
       "    <tr>\n",
       "      <th>25</th>\n",
       "      <td>wavss</td>\n",
       "      <td>average_wave_height</td>\n",
       "      <td>0.0</td>\n",
       "      <td>m</td>\n",
       "      <td>H1_WaveHght</td>\n",
       "    </tr>\n",
       "    <tr>\n",
       "      <th>26</th>\n",
       "      <td>wavss</td>\n",
       "      <td>average_wave_period</td>\n",
       "      <td>0.0</td>\n",
       "      <td>s</td>\n",
       "      <td></td>\n",
       "    </tr>\n",
       "    <tr>\n",
       "      <th>27</th>\n",
       "      <td>wavss</td>\n",
       "      <td>num_zero_crossings</td>\n",
       "      <td>0.0</td>\n",
       "      <td></td>\n",
       "      <td></td>\n",
       "    </tr>\n",
       "    <tr>\n",
       "      <th>28</th>\n",
       "      <td>wavss</td>\n",
       "      <td>maximum_wave_height</td>\n",
       "      <td>0.0</td>\n",
       "      <td>m</td>\n",
       "      <td></td>\n",
       "    </tr>\n",
       "  </tbody>\n",
       "</table>\n",
       "</div>"
      ],
      "text/plain": [
       "   instrument            data_products  relative_depth_m OOI_units  \\\n",
       "15      wavss         peak_period_read               0.0         s   \n",
       "16      wavss     average_tenth_height               0.0         m   \n",
       "17      wavss  significant_wave_height               0.0         m   \n",
       "18      wavss     mean_spectral_period               0.0         s   \n",
       "19      wavss     spectral_wave_height               0.0         m   \n",
       "20      wavss  mean_directional_spread               0.0       deg   \n",
       "21      wavss              peak_period               0.0         s   \n",
       "22      wavss  significant_wave_period               0.0         s   \n",
       "23      wavss      mean_wave_direction               0.0       deg   \n",
       "24      wavss     average_tenth_period               0.0         s   \n",
       "25      wavss      average_wave_height               0.0         m   \n",
       "26      wavss      average_wave_period               0.0         s   \n",
       "27      wavss       num_zero_crossings               0.0             \n",
       "28      wavss      maximum_wave_height               0.0         m   \n",
       "\n",
       "   measurement_label  \n",
       "15                    \n",
       "16                    \n",
       "17                    \n",
       "18                    \n",
       "19                    \n",
       "20                    \n",
       "21                    \n",
       "22     H1_DomWavePrd  \n",
       "23    H1_WaveMeanDir  \n",
       "24                    \n",
       "25       H1_WaveHght  \n",
       "26                    \n",
       "27                    \n",
       "28                    "
      ]
     },
     "execution_count": 19,
     "metadata": {},
     "output_type": "execute_result"
    }
   ],
   "source": [
    "# retrieve only wavss instrument\n",
    "wavss = df.loc[df['instrument'] == 'wavss']\n",
    "wavss"
   ]
  },
  {
   "cell_type": "code",
   "execution_count": 20,
   "metadata": {
    "collapsed": false
   },
   "outputs": [
    {
     "name": "stdout",
     "output_type": "stream",
     "text": [
      "['wavss' 'peak_period_read' 0.0 's' '']\n",
      "['wavss' 'average_tenth_height' 0.0 'm' '']\n",
      "['wavss' 'significant_wave_height' 0.0 'm' '']\n",
      "['wavss' 'mean_spectral_period' 0.0 's' '']\n",
      "['wavss' 'spectral_wave_height' 0.0 'm' '']\n",
      "['wavss' 'mean_directional_spread' 0.0 'deg' '']\n",
      "['wavss' 'peak_period' 0.0 's' '']\n",
      "['wavss' 'significant_wave_period' 0.0 's' 'H1_DomWavePrd']\n",
      "['wavss' 'mean_wave_direction' 0.0 'deg' 'H1_WaveMeanDir']\n",
      "['wavss' 'average_tenth_period' 0.0 's' '']\n",
      "['wavss' 'average_wave_height' 0.0 'm' 'H1_WaveHght']\n",
      "['wavss' 'average_wave_period' 0.0 's' '']\n",
      "['wavss' 'num_zero_crossings' 0.0 '' '']\n",
      "['wavss' 'maximum_wave_height' 0.0 'm' '']\n"
     ]
    }
   ],
   "source": [
    "# get list of dictionary for each of the data products\n",
    "dict_list = []\n",
    "for i in range(0,len(wavss)):\n",
    "    print wavss.iloc[i].values\n",
    "    wavss_json = create_JSON(wavss.iloc[i].values[0],wavss.iloc[i].values[1],\n",
    "                             wavss.iloc[i].values[2],wavss.iloc[i].values[3],wavss.iloc[i].values[4])\n",
    "    dict_list.append(wavss_json)"
   ]
  },
  {
   "cell_type": "code",
   "execution_count": 21,
   "metadata": {
    "collapsed": false
   },
   "outputs": [
    {
     "name": "stdout",
     "output_type": "stream",
     "text": [
      "[\n",
      "    {\n",
      "        \"instrument\": \"wavss\",\n",
      "        \"data_products\": \"peak_period_read\",\n",
      "        \"OOI_units\": \"s\",\n",
      "        \"relative_depth_m\": 0.0\n",
      "    },\n",
      "    {\n",
      "        \"instrument\": \"wavss\",\n",
      "        \"data_products\": \"average_tenth_height\",\n",
      "        \"OOI_units\": \"m\",\n",
      "        \"relative_depth_m\": 0.0\n",
      "    },\n",
      "    {\n",
      "        \"instrument\": \"wavss\",\n",
      "        \"data_products\": \"significant_wave_height\",\n",
      "        \"OOI_units\": \"m\",\n",
      "        \"relative_depth_m\": 0.0\n",
      "    },\n",
      "    {\n",
      "        \"instrument\": \"wavss\",\n",
      "        \"data_products\": \"mean_spectral_period\",\n",
      "        \"OOI_units\": \"s\",\n",
      "        \"relative_depth_m\": 0.0\n",
      "    },\n",
      "    {\n",
      "        \"instrument\": \"wavss\",\n",
      "        \"data_products\": \"spectral_wave_height\",\n",
      "        \"OOI_units\": \"m\",\n",
      "        \"relative_depth_m\": 0.0\n",
      "    },\n",
      "    {\n",
      "        \"instrument\": \"wavss\",\n",
      "        \"data_products\": \"mean_directional_spread\",\n",
      "        \"OOI_units\": \"deg\",\n",
      "        \"relative_depth_m\": 0.0\n",
      "    },\n",
      "    {\n",
      "        \"instrument\": \"wavss\",\n",
      "        \"data_products\": \"peak_period\",\n",
      "        \"OOI_units\": \"s\",\n",
      "        \"relative_depth_m\": 0.0\n",
      "    },\n",
      "    {\n",
      "        \"instrument\": \"wavss\",\n",
      "        \"data_products\": \"significant_wave_period\",\n",
      "        \"measurement_label\": \"H1_DomWavePrd\",\n",
      "        \"OOI_units\": \"s\",\n",
      "        \"relative_depth_m\": 0.0\n",
      "    },\n",
      "    {\n",
      "        \"instrument\": \"wavss\",\n",
      "        \"data_products\": \"mean_wave_direction\",\n",
      "        \"measurement_label\": \"H1_WaveMeanDir\",\n",
      "        \"OOI_units\": \"deg\",\n",
      "        \"relative_depth_m\": 0.0\n",
      "    },\n",
      "    {\n",
      "        \"instrument\": \"wavss\",\n",
      "        \"data_products\": \"average_tenth_period\",\n",
      "        \"OOI_units\": \"s\",\n",
      "        \"relative_depth_m\": 0.0\n",
      "    },\n",
      "    {\n",
      "        \"instrument\": \"wavss\",\n",
      "        \"data_products\": \"average_wave_height\",\n",
      "        \"measurement_label\": \"H1_WaveHght\",\n",
      "        \"OOI_units\": \"m\",\n",
      "        \"relative_depth_m\": 0.0\n",
      "    },\n",
      "    {\n",
      "        \"instrument\": \"wavss\",\n",
      "        \"data_products\": \"average_wave_period\",\n",
      "        \"OOI_units\": \"s\",\n",
      "        \"relative_depth_m\": 0.0\n",
      "    },\n",
      "    {\n",
      "        \"instrument\": \"wavss\",\n",
      "        \"data_products\": \"num_zero_crossings\",\n",
      "        \"relative_depth_m\": 0.0\n",
      "    },\n",
      "    {\n",
      "        \"instrument\": \"wavss\",\n",
      "        \"data_products\": \"maximum_wave_height\",\n",
      "        \"OOI_units\": \"m\",\n",
      "        \"relative_depth_m\": 0.0\n",
      "    }\n",
      "]\n"
     ]
    }
   ],
   "source": [
    "# prints the JSON structured dictionary\n",
    "print json.dumps(dict_list, sort_keys=False, indent=4, separators=(',', ': '))"
   ]
  },
  {
   "cell_type": "code",
   "execution_count": 22,
   "metadata": {
    "collapsed": true
   },
   "outputs": [],
   "source": [
    "# Output to JSON file called metbk.json\n",
    "fj = open(\"wavss.json\", 'w')\n",
    "fj.write(json.dumps(dict_list, sort_keys=False, indent=4, separators=(',', ': ')))\n",
    "fj.close()"
   ]
  },
  {
   "cell_type": "code",
   "execution_count": null,
   "metadata": {
    "collapsed": true
   },
   "outputs": [],
   "source": []
  }
 ],
 "metadata": {
  "kernelspec": {
   "display_name": "Python 2",
   "language": "python",
   "name": "python2"
  },
  "language_info": {
   "codemirror_mode": {
    "name": "ipython",
    "version": 2
   },
   "file_extension": ".py",
   "mimetype": "text/x-python",
   "name": "python",
   "nbconvert_exporter": "python",
   "pygments_lexer": "ipython2",
   "version": "2.7.11"
  }
 },
 "nbformat": 4,
 "nbformat_minor": 0
}
