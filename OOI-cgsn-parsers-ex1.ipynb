{
 "cells": [
  {
   "cell_type": "markdown",
   "metadata": {},
   "source": [
    "# OOI cgsn-parsers -- Example 1, metbk\n",
    "NOTE: I think much of this machinery could be replaced with a simpler approach using pandas `read_csv` and a mapper definition of columns: variable name, column index, and units string. Test out that approach later. (that mapper definitions could be stored in one or more JSON files on github!)  \n",
    "Emilio Mayorga   \n",
    "5/22/2016"
   ]
  },
  {
   "cell_type": "code",
   "execution_count": 1,
   "metadata": {
    "collapsed": false
   },
   "outputs": [
    {
     "name": "stderr",
     "output_type": "stream",
     "text": [
      "/home/mayorga/miniconda/envs/uwapl_em_mc_1aui/lib/python2.7/site-packages/matplotlib/font_manager.py:273: UserWarning: Matplotlib is building the font cache using fc-list. This may take a moment.\n",
      "  warnings.warn('Matplotlib is building the font cache using fc-list. This may take a moment.')\n"
     ]
    }
   ],
   "source": [
    "%matplotlib inline\n",
    "import requests\n",
    "import pandas as pd"
   ]
  },
  {
   "cell_type": "code",
   "execution_count": 2,
   "metadata": {
    "collapsed": true
   },
   "outputs": [],
   "source": [
    "import sys\n",
    "sys.path.insert(0, '/usr/mayorgadat/workmain/APL/DataSources/OOI/ooici/cgsn-parsers/parsers')\n",
    "\n",
    "from parse_metbk import Parser as Parser_metbk"
   ]
  },
  {
   "cell_type": "code",
   "execution_count": 3,
   "metadata": {
    "collapsed": true
   },
   "outputs": [],
   "source": [
    "baseurl = \"https://rawdata.oceanobservatories.org/files/CE07SHSM/D00003/cg_data/dcl11/metbk/\""
   ]
  },
  {
   "cell_type": "code",
   "execution_count": 4,
   "metadata": {
    "collapsed": true
   },
   "outputs": [],
   "source": [
    "fname = \"20160522.metbk.log\""
   ]
  },
  {
   "cell_type": "code",
   "execution_count": 5,
   "metadata": {
    "collapsed": false
   },
   "outputs": [],
   "source": [
    "# initialize the Parser object for METBK\n",
    "metbk = Parser_metbk(baseurl + fname)"
   ]
  },
  {
   "cell_type": "code",
   "execution_count": 6,
   "metadata": {
    "collapsed": false
   },
   "outputs": [
    {
     "name": "stderr",
     "output_type": "stream",
     "text": [
      "/home/mayorga/miniconda/envs/uwapl_em_mc_1aui/lib/python2.7/site-packages/requests/packages/urllib3/connectionpool.py:821: InsecureRequestWarning: Unverified HTTPS request is being made. Adding certificate verification is strongly advised. See: https://urllib3.readthedocs.org/en/latest/security.html\n",
      "  InsecureRequestWarning)\n"
     ]
    }
   ],
   "source": [
    "# verify=False added b/c certificate is expired\n",
    "r = requests.get(metbk.infile, verify=False)\n",
    "metbk.raw = r.content.splitlines()"
   ]
  },
  {
   "cell_type": "code",
   "execution_count": 7,
   "metadata": {
    "collapsed": false
   },
   "outputs": [
    {
     "data": {
      "text/plain": [
       "(1440,\n",
       " ['2016/05/22 23:56:00.457 1013.15  74.776  13.323  311.8    6.87  13.203  3.7388  625.9    1.66    3.77  3.7388 12.50',\n",
       "  '2016/05/22 23:57:05.587 1013.15  74.341  13.270  311.4    6.85  13.212  3.7389  632.8    1.26    4.14  3.7389 12.50',\n",
       "  '2016/05/22 23:57:39.121 1013.22  74.739  13.270  313.4    6.85  13.192  3.7373  601.1    1.70    4.15  3.7373 12.50',\n",
       "  '2016/05/22 23:58:43.347 1013.22  75.668  13.247  313.4    6.82  13.198  3.7379  434.4    1.86    4.09  3.7379 12.50',\n",
       "  '2016/05/22 23:59:47.594 1013.22  75.646  13.194  313.4    6.85  13.193  3.7373  429.5    1.80    4.13  3.7373 12.50'])"
      ]
     },
     "execution_count": 7,
     "metadata": {},
     "output_type": "execute_result"
    }
   ],
   "source": [
    "len(metbk.raw), metbk.raw[-5:]"
   ]
  },
  {
   "cell_type": "code",
   "execution_count": 8,
   "metadata": {
    "collapsed": false
   },
   "outputs": [],
   "source": [
    "metbk.parse_data()"
   ]
  },
  {
   "cell_type": "code",
   "execution_count": 10,
   "metadata": {
    "collapsed": false
   },
   "outputs": [
    {
     "data": {
      "text/plain": [
       "['longwave_irradiance',\n",
       " 'eastward_wind_velocity',\n",
       " 'sea_surface_conductivity',\n",
       " 'dcl_date_time_string',\n",
       " 'shortwave_irradiance',\n",
       " 'time',\n",
       " 'northward_wind_velocity',\n",
       " 'precipitation_level',\n",
       " 'relative_humidity',\n",
       " 'air_temperature',\n",
       " 'sea_surface_temperature',\n",
       " 'barometric_pressure']"
      ]
     },
     "execution_count": 10,
     "metadata": {},
     "output_type": "execute_result"
    }
   ],
   "source": [
    "metbk.data.keys()"
   ]
  },
  {
   "cell_type": "code",
   "execution_count": 11,
   "metadata": {
    "collapsed": false
   },
   "outputs": [],
   "source": [
    "df = pd.DataFrame(metbk.data)\n",
    "df['dt_utc'] = pd.to_datetime(df.dcl_date_time_string, utc=True)\n",
    "df.set_index('dt_utc', drop=False, inplace=True)"
   ]
  },
  {
   "cell_type": "code",
   "execution_count": 12,
   "metadata": {
    "collapsed": false
   },
   "outputs": [
    {
     "data": {
      "text/plain": [
       "((1440, 13),\n",
       " Index([u'air_temperature', u'barometric_pressure', u'dcl_date_time_string',\n",
       "        u'eastward_wind_velocity', u'longwave_irradiance',\n",
       "        u'northward_wind_velocity', u'precipitation_level',\n",
       "        u'relative_humidity', u'sea_surface_conductivity',\n",
       "        u'sea_surface_temperature', u'shortwave_irradiance', u'time',\n",
       "        u'dt_utc'],\n",
       "       dtype='object'))"
      ]
     },
     "execution_count": 12,
     "metadata": {},
     "output_type": "execute_result"
    }
   ],
   "source": [
    "# Later, can drop time, dcl_date_time_string, and maybe dt_utc (not the index)\n",
    "df.shape, df.columns"
   ]
  },
  {
   "cell_type": "code",
   "execution_count": 13,
   "metadata": {
    "collapsed": false
   },
   "outputs": [
    {
     "data": {
      "text/plain": [
       "air_temperature                    float64\n",
       "barometric_pressure                float64\n",
       "dcl_date_time_string                object\n",
       "eastward_wind_velocity             float64\n",
       "longwave_irradiance                float64\n",
       "northward_wind_velocity            float64\n",
       "precipitation_level                float64\n",
       "relative_humidity                  float64\n",
       "sea_surface_conductivity           float64\n",
       "sea_surface_temperature            float64\n",
       "shortwave_irradiance               float64\n",
       "time                               float64\n",
       "dt_utc                      datetime64[ns]\n",
       "dtype: object"
      ]
     },
     "execution_count": 13,
     "metadata": {},
     "output_type": "execute_result"
    }
   ],
   "source": [
    "df.dtypes"
   ]
  },
  {
   "cell_type": "code",
   "execution_count": 14,
   "metadata": {
    "collapsed": false
   },
   "outputs": [
    {
     "data": {
      "text/html": [
       "<div>\n",
       "<table border=\"1\" class=\"dataframe\">\n",
       "  <thead>\n",
       "    <tr style=\"text-align: right;\">\n",
       "      <th></th>\n",
       "      <th>air_temperature</th>\n",
       "      <th>barometric_pressure</th>\n",
       "      <th>dcl_date_time_string</th>\n",
       "      <th>eastward_wind_velocity</th>\n",
       "      <th>longwave_irradiance</th>\n",
       "      <th>northward_wind_velocity</th>\n",
       "      <th>precipitation_level</th>\n",
       "      <th>relative_humidity</th>\n",
       "      <th>sea_surface_conductivity</th>\n",
       "      <th>sea_surface_temperature</th>\n",
       "      <th>shortwave_irradiance</th>\n",
       "      <th>time</th>\n",
       "      <th>dt_utc</th>\n",
       "    </tr>\n",
       "    <tr>\n",
       "      <th>dt_utc</th>\n",
       "      <th></th>\n",
       "      <th></th>\n",
       "      <th></th>\n",
       "      <th></th>\n",
       "      <th></th>\n",
       "      <th></th>\n",
       "      <th></th>\n",
       "      <th></th>\n",
       "      <th></th>\n",
       "      <th></th>\n",
       "      <th></th>\n",
       "      <th></th>\n",
       "      <th></th>\n",
       "    </tr>\n",
       "  </thead>\n",
       "  <tbody>\n",
       "    <tr>\n",
       "      <th>2016-05-22 23:50:39.125</th>\n",
       "      <td>13.201</td>\n",
       "      <td>1013.29</td>\n",
       "      <td>2016/05/22 23:50:39.125</td>\n",
       "      <td>1.80</td>\n",
       "      <td>324.5</td>\n",
       "      <td>3.79</td>\n",
       "      <td>6.82</td>\n",
       "      <td>75.741</td>\n",
       "      <td>3.7451</td>\n",
       "      <td>13.277</td>\n",
       "      <td>624.9</td>\n",
       "      <td>1.463961e+09</td>\n",
       "      <td>2016-05-22 23:50:39.125</td>\n",
       "    </tr>\n",
       "    <tr>\n",
       "      <th>2016-05-22 23:51:43.412</th>\n",
       "      <td>13.201</td>\n",
       "      <td>1013.29</td>\n",
       "      <td>2016/05/22 23:51:43.412</td>\n",
       "      <td>2.53</td>\n",
       "      <td>320.4</td>\n",
       "      <td>4.40</td>\n",
       "      <td>6.85</td>\n",
       "      <td>74.223</td>\n",
       "      <td>3.7462</td>\n",
       "      <td>13.297</td>\n",
       "      <td>671.4</td>\n",
       "      <td>1.463961e+09</td>\n",
       "      <td>2016-05-22 23:51:43.412</td>\n",
       "    </tr>\n",
       "    <tr>\n",
       "      <th>2016-05-22 23:52:47.648</th>\n",
       "      <td>13.232</td>\n",
       "      <td>1013.36</td>\n",
       "      <td>2016/05/22 23:52:47.648</td>\n",
       "      <td>2.15</td>\n",
       "      <td>318.3</td>\n",
       "      <td>4.28</td>\n",
       "      <td>6.84</td>\n",
       "      <td>73.810</td>\n",
       "      <td>3.7437</td>\n",
       "      <td>13.269</td>\n",
       "      <td>654.0</td>\n",
       "      <td>1.463961e+09</td>\n",
       "      <td>2016-05-22 23:52:47.648</td>\n",
       "    </tr>\n",
       "    <tr>\n",
       "      <th>2016-05-22 23:53:51.886</th>\n",
       "      <td>13.224</td>\n",
       "      <td>1013.29</td>\n",
       "      <td>2016/05/22 23:53:51.886</td>\n",
       "      <td>2.36</td>\n",
       "      <td>315.7</td>\n",
       "      <td>3.97</td>\n",
       "      <td>6.85</td>\n",
       "      <td>73.427</td>\n",
       "      <td>3.7411</td>\n",
       "      <td>13.229</td>\n",
       "      <td>641.9</td>\n",
       "      <td>1.463961e+09</td>\n",
       "      <td>2016-05-22 23:53:51.886</td>\n",
       "    </tr>\n",
       "    <tr>\n",
       "      <th>2016-05-22 23:54:56.113</th>\n",
       "      <td>13.254</td>\n",
       "      <td>1013.29</td>\n",
       "      <td>2016/05/22 23:54:56.113</td>\n",
       "      <td>2.58</td>\n",
       "      <td>314.2</td>\n",
       "      <td>4.02</td>\n",
       "      <td>6.86</td>\n",
       "      <td>73.036</td>\n",
       "      <td>3.7399</td>\n",
       "      <td>13.219</td>\n",
       "      <td>640.8</td>\n",
       "      <td>1.463961e+09</td>\n",
       "      <td>2016-05-22 23:54:56.113</td>\n",
       "    </tr>\n",
       "    <tr>\n",
       "      <th>2016-05-22 23:56:00.457</th>\n",
       "      <td>13.323</td>\n",
       "      <td>1013.15</td>\n",
       "      <td>2016/05/22 23:56:00.457</td>\n",
       "      <td>1.66</td>\n",
       "      <td>311.8</td>\n",
       "      <td>3.77</td>\n",
       "      <td>6.87</td>\n",
       "      <td>74.776</td>\n",
       "      <td>3.7388</td>\n",
       "      <td>13.203</td>\n",
       "      <td>625.9</td>\n",
       "      <td>1.463961e+09</td>\n",
       "      <td>2016-05-22 23:56:00.457</td>\n",
       "    </tr>\n",
       "    <tr>\n",
       "      <th>2016-05-22 23:57:05.587</th>\n",
       "      <td>13.270</td>\n",
       "      <td>1013.15</td>\n",
       "      <td>2016/05/22 23:57:05.587</td>\n",
       "      <td>1.26</td>\n",
       "      <td>311.4</td>\n",
       "      <td>4.14</td>\n",
       "      <td>6.85</td>\n",
       "      <td>74.341</td>\n",
       "      <td>3.7389</td>\n",
       "      <td>13.212</td>\n",
       "      <td>632.8</td>\n",
       "      <td>1.463961e+09</td>\n",
       "      <td>2016-05-22 23:57:05.587</td>\n",
       "    </tr>\n",
       "    <tr>\n",
       "      <th>2016-05-22 23:57:39.121</th>\n",
       "      <td>13.270</td>\n",
       "      <td>1013.22</td>\n",
       "      <td>2016/05/22 23:57:39.121</td>\n",
       "      <td>1.70</td>\n",
       "      <td>313.4</td>\n",
       "      <td>4.15</td>\n",
       "      <td>6.85</td>\n",
       "      <td>74.739</td>\n",
       "      <td>3.7373</td>\n",
       "      <td>13.192</td>\n",
       "      <td>601.1</td>\n",
       "      <td>1.463961e+09</td>\n",
       "      <td>2016-05-22 23:57:39.121</td>\n",
       "    </tr>\n",
       "    <tr>\n",
       "      <th>2016-05-22 23:58:43.347</th>\n",
       "      <td>13.247</td>\n",
       "      <td>1013.22</td>\n",
       "      <td>2016/05/22 23:58:43.347</td>\n",
       "      <td>1.86</td>\n",
       "      <td>313.4</td>\n",
       "      <td>4.09</td>\n",
       "      <td>6.82</td>\n",
       "      <td>75.668</td>\n",
       "      <td>3.7379</td>\n",
       "      <td>13.198</td>\n",
       "      <td>434.4</td>\n",
       "      <td>1.463962e+09</td>\n",
       "      <td>2016-05-22 23:58:43.347</td>\n",
       "    </tr>\n",
       "    <tr>\n",
       "      <th>2016-05-22 23:59:47.594</th>\n",
       "      <td>13.194</td>\n",
       "      <td>1013.22</td>\n",
       "      <td>2016/05/22 23:59:47.594</td>\n",
       "      <td>1.80</td>\n",
       "      <td>313.4</td>\n",
       "      <td>4.13</td>\n",
       "      <td>6.85</td>\n",
       "      <td>75.646</td>\n",
       "      <td>3.7373</td>\n",
       "      <td>13.193</td>\n",
       "      <td>429.5</td>\n",
       "      <td>1.463962e+09</td>\n",
       "      <td>2016-05-22 23:59:47.594</td>\n",
       "    </tr>\n",
       "  </tbody>\n",
       "</table>\n",
       "</div>"
      ],
      "text/plain": [
       "                         air_temperature  barometric_pressure  \\\n",
       "dt_utc                                                          \n",
       "2016-05-22 23:50:39.125           13.201              1013.29   \n",
       "2016-05-22 23:51:43.412           13.201              1013.29   \n",
       "2016-05-22 23:52:47.648           13.232              1013.36   \n",
       "2016-05-22 23:53:51.886           13.224              1013.29   \n",
       "2016-05-22 23:54:56.113           13.254              1013.29   \n",
       "2016-05-22 23:56:00.457           13.323              1013.15   \n",
       "2016-05-22 23:57:05.587           13.270              1013.15   \n",
       "2016-05-22 23:57:39.121           13.270              1013.22   \n",
       "2016-05-22 23:58:43.347           13.247              1013.22   \n",
       "2016-05-22 23:59:47.594           13.194              1013.22   \n",
       "\n",
       "                            dcl_date_time_string  eastward_wind_velocity  \\\n",
       "dt_utc                                                                     \n",
       "2016-05-22 23:50:39.125  2016/05/22 23:50:39.125                    1.80   \n",
       "2016-05-22 23:51:43.412  2016/05/22 23:51:43.412                    2.53   \n",
       "2016-05-22 23:52:47.648  2016/05/22 23:52:47.648                    2.15   \n",
       "2016-05-22 23:53:51.886  2016/05/22 23:53:51.886                    2.36   \n",
       "2016-05-22 23:54:56.113  2016/05/22 23:54:56.113                    2.58   \n",
       "2016-05-22 23:56:00.457  2016/05/22 23:56:00.457                    1.66   \n",
       "2016-05-22 23:57:05.587  2016/05/22 23:57:05.587                    1.26   \n",
       "2016-05-22 23:57:39.121  2016/05/22 23:57:39.121                    1.70   \n",
       "2016-05-22 23:58:43.347  2016/05/22 23:58:43.347                    1.86   \n",
       "2016-05-22 23:59:47.594  2016/05/22 23:59:47.594                    1.80   \n",
       "\n",
       "                         longwave_irradiance  northward_wind_velocity  \\\n",
       "dt_utc                                                                  \n",
       "2016-05-22 23:50:39.125                324.5                     3.79   \n",
       "2016-05-22 23:51:43.412                320.4                     4.40   \n",
       "2016-05-22 23:52:47.648                318.3                     4.28   \n",
       "2016-05-22 23:53:51.886                315.7                     3.97   \n",
       "2016-05-22 23:54:56.113                314.2                     4.02   \n",
       "2016-05-22 23:56:00.457                311.8                     3.77   \n",
       "2016-05-22 23:57:05.587                311.4                     4.14   \n",
       "2016-05-22 23:57:39.121                313.4                     4.15   \n",
       "2016-05-22 23:58:43.347                313.4                     4.09   \n",
       "2016-05-22 23:59:47.594                313.4                     4.13   \n",
       "\n",
       "                         precipitation_level  relative_humidity  \\\n",
       "dt_utc                                                            \n",
       "2016-05-22 23:50:39.125                 6.82             75.741   \n",
       "2016-05-22 23:51:43.412                 6.85             74.223   \n",
       "2016-05-22 23:52:47.648                 6.84             73.810   \n",
       "2016-05-22 23:53:51.886                 6.85             73.427   \n",
       "2016-05-22 23:54:56.113                 6.86             73.036   \n",
       "2016-05-22 23:56:00.457                 6.87             74.776   \n",
       "2016-05-22 23:57:05.587                 6.85             74.341   \n",
       "2016-05-22 23:57:39.121                 6.85             74.739   \n",
       "2016-05-22 23:58:43.347                 6.82             75.668   \n",
       "2016-05-22 23:59:47.594                 6.85             75.646   \n",
       "\n",
       "                         sea_surface_conductivity  sea_surface_temperature  \\\n",
       "dt_utc                                                                       \n",
       "2016-05-22 23:50:39.125                    3.7451                   13.277   \n",
       "2016-05-22 23:51:43.412                    3.7462                   13.297   \n",
       "2016-05-22 23:52:47.648                    3.7437                   13.269   \n",
       "2016-05-22 23:53:51.886                    3.7411                   13.229   \n",
       "2016-05-22 23:54:56.113                    3.7399                   13.219   \n",
       "2016-05-22 23:56:00.457                    3.7388                   13.203   \n",
       "2016-05-22 23:57:05.587                    3.7389                   13.212   \n",
       "2016-05-22 23:57:39.121                    3.7373                   13.192   \n",
       "2016-05-22 23:58:43.347                    3.7379                   13.198   \n",
       "2016-05-22 23:59:47.594                    3.7373                   13.193   \n",
       "\n",
       "                         shortwave_irradiance          time  \\\n",
       "dt_utc                                                        \n",
       "2016-05-22 23:50:39.125                 624.9  1.463961e+09   \n",
       "2016-05-22 23:51:43.412                 671.4  1.463961e+09   \n",
       "2016-05-22 23:52:47.648                 654.0  1.463961e+09   \n",
       "2016-05-22 23:53:51.886                 641.9  1.463961e+09   \n",
       "2016-05-22 23:54:56.113                 640.8  1.463961e+09   \n",
       "2016-05-22 23:56:00.457                 625.9  1.463961e+09   \n",
       "2016-05-22 23:57:05.587                 632.8  1.463961e+09   \n",
       "2016-05-22 23:57:39.121                 601.1  1.463961e+09   \n",
       "2016-05-22 23:58:43.347                 434.4  1.463962e+09   \n",
       "2016-05-22 23:59:47.594                 429.5  1.463962e+09   \n",
       "\n",
       "                                         dt_utc  \n",
       "dt_utc                                           \n",
       "2016-05-22 23:50:39.125 2016-05-22 23:50:39.125  \n",
       "2016-05-22 23:51:43.412 2016-05-22 23:51:43.412  \n",
       "2016-05-22 23:52:47.648 2016-05-22 23:52:47.648  \n",
       "2016-05-22 23:53:51.886 2016-05-22 23:53:51.886  \n",
       "2016-05-22 23:54:56.113 2016-05-22 23:54:56.113  \n",
       "2016-05-22 23:56:00.457 2016-05-22 23:56:00.457  \n",
       "2016-05-22 23:57:05.587 2016-05-22 23:57:05.587  \n",
       "2016-05-22 23:57:39.121 2016-05-22 23:57:39.121  \n",
       "2016-05-22 23:58:43.347 2016-05-22 23:58:43.347  \n",
       "2016-05-22 23:59:47.594 2016-05-22 23:59:47.594  "
      ]
     },
     "execution_count": 14,
     "metadata": {},
     "output_type": "execute_result"
    }
   ],
   "source": [
    "df.tail(10)"
   ]
  },
  {
   "cell_type": "code",
   "execution_count": 15,
   "metadata": {
    "collapsed": false
   },
   "outputs": [
    {
     "data": {
      "image/png": "[encoded data removed]",
      "text/plain": [
       "<matplotlib.figure.Figure at 0x7ff39094fe90>"
      ]
     },
     "metadata": {},
     "output_type": "display_data"
    }
   ],
   "source": [
    "df[['air_temperature', 'sea_surface_temperature']].plot(figsize=(11,5));"
   ]
  },
  {
   "cell_type": "code",
   "execution_count": 17,
   "metadata": {
    "collapsed": false
   },
   "outputs": [
    {
     "data": {
      "image/png": "[encoded data removed]",
      "text/plain": [
       "<matplotlib.figure.Figure at 0x7ff388f2cb10>"
      ]
     },
     "metadata": {},
     "output_type": "display_data"
    }
   ],
   "source": [
    "df['sea_surface_conductivity'].plot(figsize=(11,5));"
   ]
  },
  {
   "cell_type": "code",
   "execution_count": null,
   "metadata": {
    "collapsed": true
   },
   "outputs": [],
   "source": []
  }
 ],
 "metadata": {
  "kernelspec": {
   "display_name": "Python 2",
   "language": "python",
   "name": "python2"
  },
  "language_info": {
   "codemirror_mode": {
    "name": "ipython",
    "version": 2
   },
   "file_extension": ".py",
   "mimetype": "text/x-python",
   "name": "python",
   "nbconvert_exporter": "python",
   "pygments_lexer": "ipython2",
   "version": "2.7.11"
  }
 },
 "nbformat": 4,
 "nbformat_minor": 0
}
